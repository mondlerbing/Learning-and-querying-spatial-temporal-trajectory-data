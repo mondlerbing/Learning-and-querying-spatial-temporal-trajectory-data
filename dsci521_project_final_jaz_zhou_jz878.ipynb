{
 "cells": [
  {
   "cell_type": "markdown",
   "id": "7dd0d1d6",
   "metadata": {
    "id": "7dd0d1d6"
   },
   "source": [
    "# DSCI 521: Data Analysis and Interpretation <br> Term Project Phase 1: Scoping an analytics project"
   ]
  },
  {
   "cell_type": "markdown",
   "id": "d86edb44",
   "metadata": {
    "id": "d86edb44"
   },
   "source": [
    "### Project submission group\n",
    "- Group member 1\n",
    "    - Name: Jaz Zhou\n",
    "    - Email: jz878@drexel.edu\n",
    "\n",
    "\n",
    "### Additional submission comments\n",
    "- Tutoring support received: NA\n",
    "- Other (other): NA"
   ]
  },
  {
   "cell_type": "markdown",
   "id": "768a3709",
   "metadata": {
    "id": "768a3709"
   },
   "source": [
    "## 1. Abstract\n",
    "This project explores the topic of smart cities within the realm of urban design, specifically, focusing on understanding and analyzing taxi trajectories in the lights of understanding this particular transportation pattern, and maybe developed into similarity search and/or prediction model.\n",
    "\n",
    "We utilized a Kaggle dataset, specifically the \"train.csv\" file with 1.7 million taxi trajectories, averaging 50 points each. Additionally, the \"test.csv\" file provided snapshots of ongoing trips at specific timestamps (14/08/2014 18:00:00, 30/09/2014 08:30:00, 06/10/2014 17:45:00, 01/11/2014 04:00:00, and 21/12/2014 14:30:00).\n",
    "\n",
    "The exploratory data analysis offers initial insights for in-depth analysis model.\n",
    "\n",
    "**Key findings include**:\n",
    "\n",
    "- **\"DAY_TYPE\" data revised**: addressing concerns about the reliability of the \"DAYTYPE\" feature. Mostly showing type 'A' days, we revised it using a holiday list for more accurate time pattern representation.\n",
    "\n",
    "- **Popular Stand Existence**: Stand 15 emerged as the most frequented, crucial for resource optimization and service efficiency.\n",
    "\n",
    "- **Temporal Patterns**: Distinct peaks around 8:50 AM and local peaks at sharp hours provide insights for effective fleet management.\n",
    "\n",
    "- **Trajectory Length**: Median trajectory length is 4.69 km, varying by call type.\n",
    "\n",
    "- **Sampling Rate**: Moderate variability in taxi trajectory sampling rates(median = 11, mean = 11.9 per taxi per day), with notable variations observed(std = 6.4, min = 1, max = 266 per taxi per day).\n",
    "\n",
    "- **Correlation**: No discernible linear or non-linear correlation among 'CALL_TYPE,' 'TAXI_ID,' 'DAY_TYPE_REVISED,' and 'TIMESTAMP,' indicating independence of features.\n",
    "\n",
    "Acknowledging dataset limitations, including variations in GPS data completeness and the study's confined scope to a single city for a specific year, ensures a comprehensive understanding within the project's context.\n"
   ]
  },
  {
   "cell_type": "markdown",
   "id": "d232c0cc",
   "metadata": {
    "id": "d232c0cc"
   },
   "source": [
    "## 2. Identified Skills & Areas needing Growth\n",
    "\n",
    "### Jaz Zhou\n",
    "\n",
    "\n",
    "\n",
    "####  Identified Skills\n",
    "\n",
    "\n",
    "I used to study and work in Architecture and Urban Design, equiping me the ability to identify and leverage relevant data for the continual improvement of urban design and operational processes. My skills encompass:\n",
    "\n",
    "- Utilizing my architectural knowledge to identify key areas of focus in urban design.\n",
    "- Interpreting data through the lens of urban design principles.\n",
    "- Recognizing the application or research value of chosen topic.\n",
    "\n",
    "  \n",
    "####  Areas requiring growth\n",
    "\n",
    "While traditional urban design relies on experience and intuition, the integration of data science opens avenues for quantification and evidence-based decision-making. To enhance my skill set, I am eager to delve deeper into:\n",
    "\n",
    "- Developing proficiency in data visualization to communicate findings effectively to stakeholders.\n",
    "- Exploring various machine learning algorithms such as regression, clustering, and classification to analyze urban patterns.\n",
    "- Delving into deep learning models to uncover complex relationships within urban data, allowing for predictive modeling and scenario analysis."
   ]
  },
  {
   "cell_type": "markdown",
   "id": "94d31550",
   "metadata": {
    "id": "94d31550"
   },
   "source": [
    "## 3. Topic Choice\n",
    "\n",
    "In the realm of city planning, smart cities are quite a hot topic. One key part is improving how we interpret  traffic patterns using advanced technology and data.\n",
    "\n",
    "Specifically, for this project, we're looking at taxi routes – studying where they go and predicting where they'll go next. This helps us understand popular routes, congestion points, and commuter preferences.\n",
    "\n",
    "**Goals of the Project**:\n",
    "\n",
    "-**Find Similar Routes**:\n",
    "    Employ machine learning algorithms to identify patterns in taxi trajectories. Clustering techniques can group similar routes, highlighting popular paths taken by taxis.\n",
    "    Utilize spatial data analysis to identify common starting and ending points, as well as recurring routes. This information is valuable for understanding commuter behavior.\n",
    "\n",
    "-**Predict Future Routes**:\n",
    "    Train machine learning models to predict future taxi trajectories based on historical data. This can assist in proactive traffic management and resource allocation.\n",
    "    Predicting how traffic conditions might evolve can help in optimizing traffic signal timings and managing road infrastructure.\n"
   ]
  },
  {
   "cell_type": "markdown",
   "id": "6c880277",
   "metadata": {
    "id": "6c880277"
   },
   "source": [
    "## 4. Relevant Pre-processed Data Selection\n",
    "\n",
    "As GPS-enabled devices become widespread, trajectory data is being generated rapidly. We possess a strong dataset sourced from `Kaggle` covering `a full year (01/07/2013 to 30/06/2014)` detailing the `trajectories of 442 taxis in Porto, Portugal`[1]. This valuable information is neatly organized in a single CSV file named \"train.csv,\" allowing for in-depth exploration and insights into the city's transportation dynamics.\n",
    "\n",
    "\n",
    "[1] Meghan O'Connell, moreiraMatias, Wendy Kan, \"ECML/PKDD 15: Taxi Trajectory Prediction (I),\" Kaggle, 2015. [Online]. Available: https://kaggle.com/competitions/pkdd-15-predict-taxi-service-trajectory-i\n",
    "\n",
    "\n",
    "\n",
    "### 4.1 Acquire data\n",
    "\n",
    "To download the data zip file, you can go to the website and download, or install kaggle and register an api to acquire it."
   ]
  },
  {
   "cell_type": "code",
   "execution_count": 4,
   "id": "b7693594",
   "metadata": {
    "colab": {
     "base_uri": "https://localhost:8080/"
    },
    "executionInfo": {
     "elapsed": 8562,
     "status": "ok",
     "timestamp": 1709765720819,
     "user": {
      "displayName": "Peizhi WU",
      "userId": "15522070970651565039"
     },
     "user_tz": 300
    },
    "id": "b7693594",
    "outputId": "15f5651a-2f7a-40ee-8142-2d4c688c8148"
   },
   "outputs": [
    {
     "name": "stdout",
     "output_type": "stream",
     "text": [
      "Requirement already satisfied: kaggle in /usr/local/lib/python3.10/dist-packages (1.5.16)\n",
      "Requirement already satisfied: six>=1.10 in /usr/local/lib/python3.10/dist-packages (from kaggle) (1.16.0)\n",
      "Requirement already satisfied: certifi in /usr/local/lib/python3.10/dist-packages (from kaggle) (2024.2.2)\n",
      "Requirement already satisfied: python-dateutil in /usr/local/lib/python3.10/dist-packages (from kaggle) (2.8.2)\n",
      "Requirement already satisfied: requests in /usr/local/lib/python3.10/dist-packages (from kaggle) (2.31.0)\n",
      "Requirement already satisfied: tqdm in /usr/local/lib/python3.10/dist-packages (from kaggle) (4.66.2)\n",
      "Requirement already satisfied: python-slugify in /usr/local/lib/python3.10/dist-packages (from kaggle) (8.0.4)\n",
      "Requirement already satisfied: urllib3 in /usr/local/lib/python3.10/dist-packages (from kaggle) (2.0.7)\n",
      "Requirement already satisfied: bleach in /usr/local/lib/python3.10/dist-packages (from kaggle) (6.1.0)\n",
      "Requirement already satisfied: webencodings in /usr/local/lib/python3.10/dist-packages (from bleach->kaggle) (0.5.1)\n",
      "Requirement already satisfied: text-unidecode>=1.3 in /usr/local/lib/python3.10/dist-packages (from python-slugify->kaggle) (1.3)\n",
      "Requirement already satisfied: charset-normalizer<4,>=2 in /usr/local/lib/python3.10/dist-packages (from requests->kaggle) (3.3.2)\n",
      "Requirement already satisfied: idna<4,>=2.5 in /usr/local/lib/python3.10/dist-packages (from requests->kaggle) (3.6)\n"
     ]
    }
   ],
   "source": [
    "!pip install kaggle"
   ]
  },
  {
   "cell_type": "code",
   "execution_count": 5,
   "id": "zKYT5aSR-f2V",
   "metadata": {
    "colab": {
     "base_uri": "https://localhost:8080/",
     "height": 92
    },
    "executionInfo": {
     "elapsed": 7848,
     "status": "ok",
     "timestamp": 1709765728653,
     "user": {
      "displayName": "Peizhi WU",
      "userId": "15522070970651565039"
     },
     "user_tz": 300
    },
    "id": "zKYT5aSR-f2V",
    "outputId": "3acce845-8df1-49e8-e1c2-068b0f259786"
   },
   "outputs": [
    {
     "data": {
      "text/html": [
       "\n",
       "     <input type=\"file\" id=\"files-57c0de3c-0b4d-4dcd-99d9-6d9ccdf8fc4a\" name=\"files[]\" multiple disabled\n",
       "        style=\"border:none\" />\n",
       "     <output id=\"result-57c0de3c-0b4d-4dcd-99d9-6d9ccdf8fc4a\">\n",
       "      Upload widget is only available when the cell has been executed in the\n",
       "      current browser session. Please rerun this cell to enable.\n",
       "      </output>\n",
       "      <script>// Copyright 2017 Google LLC\n",
       "//\n",
       "// Licensed under the Apache License, Version 2.0 (the \"License\");\n",
       "// you may not use this file except in compliance with the License.\n",
       "// You may obtain a copy of the License at\n",
       "//\n",
       "//      http://www.apache.org/licenses/LICENSE-2.0\n",
       "//\n",
       "// Unless required by applicable law or agreed to in writing, software\n",
       "// distributed under the License is distributed on an \"AS IS\" BASIS,\n",
       "// WITHOUT WARRANTIES OR CONDITIONS OF ANY KIND, either express or implied.\n",
       "// See the License for the specific language governing permissions and\n",
       "// limitations under the License.\n",
       "\n",
       "/**\n",
       " * @fileoverview Helpers for google.colab Python module.\n",
       " */\n",
       "(function(scope) {\n",
       "function span(text, styleAttributes = {}) {\n",
       "  const element = document.createElement('span');\n",
       "  element.textContent = text;\n",
       "  for (const key of Object.keys(styleAttributes)) {\n",
       "    element.style[key] = styleAttributes[key];\n",
       "  }\n",
       "  return element;\n",
       "}\n",
       "\n",
       "// Max number of bytes which will be uploaded at a time.\n",
       "const MAX_PAYLOAD_SIZE = 100 * 1024;\n",
       "\n",
       "function _uploadFiles(inputId, outputId) {\n",
       "  const steps = uploadFilesStep(inputId, outputId);\n",
       "  const outputElement = document.getElementById(outputId);\n",
       "  // Cache steps on the outputElement to make it available for the next call\n",
       "  // to uploadFilesContinue from Python.\n",
       "  outputElement.steps = steps;\n",
       "\n",
       "  return _uploadFilesContinue(outputId);\n",
       "}\n",
       "\n",
       "// This is roughly an async generator (not supported in the browser yet),\n",
       "// where there are multiple asynchronous steps and the Python side is going\n",
       "// to poll for completion of each step.\n",
       "// This uses a Promise to block the python side on completion of each step,\n",
       "// then passes the result of the previous step as the input to the next step.\n",
       "function _uploadFilesContinue(outputId) {\n",
       "  const outputElement = document.getElementById(outputId);\n",
       "  const steps = outputElement.steps;\n",
       "\n",
       "  const next = steps.next(outputElement.lastPromiseValue);\n",
       "  return Promise.resolve(next.value.promise).then((value) => {\n",
       "    // Cache the last promise value to make it available to the next\n",
       "    // step of the generator.\n",
       "    outputElement.lastPromiseValue = value;\n",
       "    return next.value.response;\n",
       "  });\n",
       "}\n",
       "\n",
       "/**\n",
       " * Generator function which is called between each async step of the upload\n",
       " * process.\n",
       " * @param {string} inputId Element ID of the input file picker element.\n",
       " * @param {string} outputId Element ID of the output display.\n",
       " * @return {!Iterable<!Object>} Iterable of next steps.\n",
       " */\n",
       "function* uploadFilesStep(inputId, outputId) {\n",
       "  const inputElement = document.getElementById(inputId);\n",
       "  inputElement.disabled = false;\n",
       "\n",
       "  const outputElement = document.getElementById(outputId);\n",
       "  outputElement.innerHTML = '';\n",
       "\n",
       "  const pickedPromise = new Promise((resolve) => {\n",
       "    inputElement.addEventListener('change', (e) => {\n",
       "      resolve(e.target.files);\n",
       "    });\n",
       "  });\n",
       "\n",
       "  const cancel = document.createElement('button');\n",
       "  inputElement.parentElement.appendChild(cancel);\n",
       "  cancel.textContent = 'Cancel upload';\n",
       "  const cancelPromise = new Promise((resolve) => {\n",
       "    cancel.onclick = () => {\n",
       "      resolve(null);\n",
       "    };\n",
       "  });\n",
       "\n",
       "  // Wait for the user to pick the files.\n",
       "  const files = yield {\n",
       "    promise: Promise.race([pickedPromise, cancelPromise]),\n",
       "    response: {\n",
       "      action: 'starting',\n",
       "    }\n",
       "  };\n",
       "\n",
       "  cancel.remove();\n",
       "\n",
       "  // Disable the input element since further picks are not allowed.\n",
       "  inputElement.disabled = true;\n",
       "\n",
       "  if (!files) {\n",
       "    return {\n",
       "      response: {\n",
       "        action: 'complete',\n",
       "      }\n",
       "    };\n",
       "  }\n",
       "\n",
       "  for (const file of files) {\n",
       "    const li = document.createElement('li');\n",
       "    li.append(span(file.name, {fontWeight: 'bold'}));\n",
       "    li.append(span(\n",
       "        `(${file.type || 'n/a'}) - ${file.size} bytes, ` +\n",
       "        `last modified: ${\n",
       "            file.lastModifiedDate ? file.lastModifiedDate.toLocaleDateString() :\n",
       "                                    'n/a'} - `));\n",
       "    const percent = span('0% done');\n",
       "    li.appendChild(percent);\n",
       "\n",
       "    outputElement.appendChild(li);\n",
       "\n",
       "    const fileDataPromise = new Promise((resolve) => {\n",
       "      const reader = new FileReader();\n",
       "      reader.onload = (e) => {\n",
       "        resolve(e.target.result);\n",
       "      };\n",
       "      reader.readAsArrayBuffer(file);\n",
       "    });\n",
       "    // Wait for the data to be ready.\n",
       "    let fileData = yield {\n",
       "      promise: fileDataPromise,\n",
       "      response: {\n",
       "        action: 'continue',\n",
       "      }\n",
       "    };\n",
       "\n",
       "    // Use a chunked sending to avoid message size limits. See b/62115660.\n",
       "    let position = 0;\n",
       "    do {\n",
       "      const length = Math.min(fileData.byteLength - position, MAX_PAYLOAD_SIZE);\n",
       "      const chunk = new Uint8Array(fileData, position, length);\n",
       "      position += length;\n",
       "\n",
       "      const base64 = btoa(String.fromCharCode.apply(null, chunk));\n",
       "      yield {\n",
       "        response: {\n",
       "          action: 'append',\n",
       "          file: file.name,\n",
       "          data: base64,\n",
       "        },\n",
       "      };\n",
       "\n",
       "      let percentDone = fileData.byteLength === 0 ?\n",
       "          100 :\n",
       "          Math.round((position / fileData.byteLength) * 100);\n",
       "      percent.textContent = `${percentDone}% done`;\n",
       "\n",
       "    } while (position < fileData.byteLength);\n",
       "  }\n",
       "\n",
       "  // All done.\n",
       "  yield {\n",
       "    response: {\n",
       "      action: 'complete',\n",
       "    }\n",
       "  };\n",
       "}\n",
       "\n",
       "scope.google = scope.google || {};\n",
       "scope.google.colab = scope.google.colab || {};\n",
       "scope.google.colab._files = {\n",
       "  _uploadFiles,\n",
       "  _uploadFilesContinue,\n",
       "};\n",
       "})(self);\n",
       "</script> "
      ],
      "text/plain": [
       "<IPython.core.display.HTML object>"
      ]
     },
     "metadata": {},
     "output_type": "display_data"
    },
    {
     "name": "stdout",
     "output_type": "stream",
     "text": [
      "Saving kaggle.json to kaggle.json\n"
     ]
    },
    {
     "data": {
      "text/plain": [
       "{'kaggle.json': b'{\"username\":\"jazzhou\",\"key\":\"cc340e8b471b497acec985317a9d90c4\"}'}"
      ]
     },
     "execution_count": 5,
     "metadata": {},
     "output_type": "execute_result"
    }
   ],
   "source": [
    "from google.colab import files\n",
    "files.upload()"
   ]
  },
  {
   "cell_type": "code",
   "execution_count": 6,
   "id": "1YCfJ9XX-gq0",
   "metadata": {
    "executionInfo": {
     "elapsed": 360,
     "status": "ok",
     "timestamp": 1709765731212,
     "user": {
      "displayName": "Peizhi WU",
      "userId": "15522070970651565039"
     },
     "user_tz": 300
    },
    "id": "1YCfJ9XX-gq0"
   },
   "outputs": [],
   "source": [
    "!mkdir -p ~/.kaggle\n",
    "!mv kaggle.json ~/.kaggle/"
   ]
  },
  {
   "cell_type": "code",
   "execution_count": 7,
   "id": "-iLTJ7cE-i5y",
   "metadata": {
    "executionInfo": {
     "elapsed": 283,
     "status": "ok",
     "timestamp": 1709765733705,
     "user": {
      "displayName": "Peizhi WU",
      "userId": "15522070970651565039"
     },
     "user_tz": 300
    },
    "id": "-iLTJ7cE-i5y"
   },
   "outputs": [],
   "source": [
    "!chmod 600 ~/.kaggle/kaggle.json"
   ]
  },
  {
   "cell_type": "markdown",
   "id": "67e8883f",
   "metadata": {
    "id": "67e8883f"
   },
   "source": [
    "after installing the kaggle.\n",
    "- hop to kaggle's website and create an acount\n",
    "- go to acount - settings - API - create a new token\n",
    "- paste the downloaded token `kaggle.json` into `Users/yourUserName/.kaggle/`\n",
    "\n",
    "then run the code below to download the zip file."
   ]
  },
  {
   "cell_type": "code",
   "execution_count": 8,
   "id": "d268d2e2",
   "metadata": {
    "colab": {
     "base_uri": "https://localhost:8080/"
    },
    "executionInfo": {
     "elapsed": 5571,
     "status": "ok",
     "timestamp": 1709765742303,
     "user": {
      "displayName": "Peizhi WU",
      "userId": "15522070970651565039"
     },
     "user_tz": 300
    },
    "id": "d268d2e2",
    "outputId": "ba0435a2-ef38-46cc-90c4-d9be2b98de5e"
   },
   "outputs": [
    {
     "name": "stdout",
     "output_type": "stream",
     "text": [
      "Downloading pkdd-15-predict-taxi-service-trajectory-i.zip to /content\n",
      " 98% 498M/509M [00:04<00:00, 131MB/s]\n",
      "100% 509M/509M [00:04<00:00, 126MB/s]\n"
     ]
    }
   ],
   "source": [
    "!kaggle competitions download -c pkdd-15-predict-taxi-service-trajectory-i"
   ]
  },
  {
   "cell_type": "markdown",
   "id": "adef88f7",
   "metadata": {
    "id": "adef88f7"
   },
   "source": [
    "Next, unzip the zip file and extract the raw data."
   ]
  },
  {
   "cell_type": "code",
   "execution_count": 9,
   "id": "28b537b0",
   "metadata": {
    "executionInfo": {
     "elapsed": 102,
     "status": "ok",
     "timestamp": 1709765745632,
     "user": {
      "displayName": "Peizhi WU",
      "userId": "15522070970651565039"
     },
     "user_tz": 300
    },
    "id": "28b537b0"
   },
   "outputs": [],
   "source": [
    "import zipfile\n",
    "\n",
    "def unzip(zip_file_path, extracted_folder_path):\n",
    "\n",
    "    # Open the zip file\n",
    "    with zipfile.ZipFile(zip_file_path, 'r') as zip_ref:\n",
    "        # Extract all the contents into the specified folder\n",
    "        zip_ref.extractall(extracted_folder_path)\n",
    "\n",
    "    # Optionally, you can print a message to confirm the extraction\n",
    "    print(f\"File '{zip_file_path}' has been successfully extracted to '{extracted_folder_path}'.\")\n"
   ]
  },
  {
   "cell_type": "code",
   "execution_count": 10,
   "id": "7bd118ea",
   "metadata": {
    "colab": {
     "base_uri": "https://localhost:8080/"
    },
    "executionInfo": {
     "elapsed": 27497,
     "status": "ok",
     "timestamp": 1709765775042,
     "user": {
      "displayName": "Peizhi WU",
      "userId": "15522070970651565039"
     },
     "user_tz": 300
    },
    "id": "7bd118ea",
    "outputId": "e4c8db52-88ff-440a-f2ec-6bdfb551a786"
   },
   "outputs": [
    {
     "name": "stdout",
     "output_type": "stream",
     "text": [
      "File 'pkdd-15-predict-taxi-service-trajectory-i.zip' has been successfully extracted to 'data'.\n",
      "File 'data/train.csv.zip' has been successfully extracted to 'data/trainData'.\n",
      "File 'data/test.csv.zip' has been successfully extracted to 'data/testData'.\n",
      "File 'data/metaData_taxistandsID_name_GPSlocation.csv.zip' has been successfully extracted to 'data/metaData'.\n"
     ]
    }
   ],
   "source": [
    "unzip('pkdd-15-predict-taxi-service-trajectory-i.zip', 'data')\n",
    "\n",
    "unzip('data/train.csv.zip', 'data/trainData')\n",
    "\n",
    "unzip('data/test.csv.zip', 'data/testData')\n",
    "\n",
    "unzip('data/metaData_taxistandsID_name_GPSlocation.csv.zip', 'data/metaData')\n"
   ]
  },
  {
   "cell_type": "code",
   "execution_count": 31,
   "id": "bG-IYvxVUq9V",
   "metadata": {
    "colab": {
     "base_uri": "https://localhost:8080/"
    },
    "executionInfo": {
     "elapsed": 126,
     "status": "ok",
     "timestamp": 1709771518890,
     "user": {
      "displayName": "Peizhi WU",
      "userId": "15522070970651565039"
     },
     "user_tz": 300
    },
    "id": "bG-IYvxVUq9V",
    "outputId": "6159e5cf-c4a2-4e90-df94-94e913594000"
   },
   "outputs": [
    {
     "name": "stdout",
     "output_type": "stream",
     "text": [
      "/content\n"
     ]
    }
   ],
   "source": [
    "import os\n",
    "print(os.getcwd())"
   ]
  },
  {
   "cell_type": "code",
   "execution_count": 32,
   "id": "y9kYvR_WUrjg",
   "metadata": {
    "colab": {
     "base_uri": "https://localhost:8080/"
    },
    "executionInfo": {
     "elapsed": 117,
     "status": "ok",
     "timestamp": 1709771586682,
     "user": {
      "displayName": "Peizhi WU",
      "userId": "15522070970651565039"
     },
     "user_tz": 300
    },
    "id": "y9kYvR_WUrjg",
    "outputId": "20b8a1b5-12e9-479f-af24-8a417d896aca"
   },
   "outputs": [
    {
     "name": "stdout",
     "output_type": "stream",
     "text": [
      "['.config', 'pkdd-15-predict-taxi-service-trajectory-i.zip', 'data', 'sample_data']\n"
     ]
    }
   ],
   "source": [
    "print(os.listdir())"
   ]
  },
  {
   "cell_type": "markdown",
   "id": "e5d263db",
   "metadata": {
    "id": "e5d263db"
   },
   "source": [
    "### 4.2 Raw Data\n",
    "\n",
    "The raw data includes train.csv, test.csv and meta data csv file.\n",
    "\n",
    "**1. train.csv file**\n",
    "\n",
    "train.csv contains 1.7 million taxi trajectories collected from Porto, Portugal, between July 2013\n",
    "and June 2014. The trajectory points do not come with timestamps. The average number of points\n",
    "per trajectory is 50.\n",
    "\n",
    "Each data sample corresponds to one completed trip. It contains a total of 9 (nine) features, described as follows:\n",
    "\n",
    "- **TRIP_ID:** (String) Unique identifier for each trip.\n",
    "- **CALL_TYPE:** (char) Identifies the way used to demand this service. It may contain one of three possible values:\n",
    "  - 'A' if this trip was dispatched from the central.\n",
    "  - 'B' if this trip was demanded directly to a taxi driver on a specific stand.\n",
    "  - 'C' otherwise (i.e. a trip demanded on a random street).\n",
    "- **ORIGIN_CALL:** (integer) Unique identifier for each phone number which was used to demand, at least, one service. It identifies the trip’s customer if CALL_TYPE='A'. Otherwise, it assumes a NULL value.\n",
    "- **ORIGIN_STAND:** (integer) Unique identifier for the taxi stand. It identifies the starting point of the trip if CALL_TYPE='B'. Otherwise, it assumes a NULL value.\n",
    "- **TAXI_ID:** (integer) Unique identifier for the taxi driver that performed each trip.\n",
    "- **TIMESTAMP:** (integer) Unix Timestamp (in seconds). Identifies the trip’s start.\n",
    "- **DAYTYPE:** (char) Identifies the daytype of the trip’s start. It assumes one of three possible values:\n",
    "  - 'B' if this trip started on a holiday or any other special day.\n",
    "  - 'C' if the trip started on a day before a type-B day.\n",
    "  - 'A' otherwise (i.e. a normal day, workday, or weekend).\n",
    "- **MISSING_DATA:** (Boolean) FALSE when the GPS data stream is complete and TRUE whenever one (or more) locations are missing.\n",
    "- **POLYLINE:** (String) Contains a list of GPS coordinates (i.e. WGS84 format) mapped as a string. The beginning and the end of the string are identified with brackets (i.e. [ and ], respectively). Each pair of coordinates is also identified by the same brackets as [LONGITUDE, LATITUDE]. This list contains one pair of coordinates for each 15 seconds of the trip. The last list item corresponds to the trip’s destination while the first one represents its start.\n",
    "\n",
    "\n"
   ]
  },
  {
   "cell_type": "code",
   "execution_count": 4,
   "id": "9e640057",
   "metadata": {
    "executionInfo": {
     "elapsed": 116,
     "status": "ok",
     "timestamp": 1709768103969,
     "user": {
      "displayName": "Peizhi WU",
      "userId": "15522070970651565039"
     },
     "user_tz": 300
    },
    "id": "9e640057"
   },
   "outputs": [],
   "source": [
    "import pandas as pd\n",
    "\n",
    "def readCsvToDf(csv_path):\n",
    "    df = pd.read_csv(csv_path)\n",
    "    return df"
   ]
  },
  {
   "cell_type": "code",
   "execution_count": 6,
   "id": "fa022d7d",
   "metadata": {
    "colab": {
     "base_uri": "https://localhost:8080/",
     "height": 206
    },
    "executionInfo": {
     "elapsed": 32548,
     "status": "ok",
     "timestamp": 1709768138047,
     "user": {
      "displayName": "Peizhi WU",
      "userId": "15522070970651565039"
     },
     "user_tz": 300
    },
    "id": "fa022d7d",
    "outputId": "48c22735-5bed-4d97-b4e1-e98a149a866b"
   },
   "outputs": [
    {
     "data": {
      "text/html": [
       "<div>\n",
       "<style scoped>\n",
       "    .dataframe tbody tr th:only-of-type {\n",
       "        vertical-align: middle;\n",
       "    }\n",
       "\n",
       "    .dataframe tbody tr th {\n",
       "        vertical-align: top;\n",
       "    }\n",
       "\n",
       "    .dataframe thead th {\n",
       "        text-align: right;\n",
       "    }\n",
       "</style>\n",
       "<table border=\"1\" class=\"dataframe\">\n",
       "  <thead>\n",
       "    <tr style=\"text-align: right;\">\n",
       "      <th></th>\n",
       "      <th>TRIP_ID</th>\n",
       "      <th>CALL_TYPE</th>\n",
       "      <th>ORIGIN_CALL</th>\n",
       "      <th>ORIGIN_STAND</th>\n",
       "      <th>TAXI_ID</th>\n",
       "      <th>TIMESTAMP</th>\n",
       "      <th>DAY_TYPE</th>\n",
       "      <th>MISSING_DATA</th>\n",
       "      <th>POLYLINE</th>\n",
       "    </tr>\n",
       "  </thead>\n",
       "  <tbody>\n",
       "    <tr>\n",
       "      <th>0</th>\n",
       "      <td>1372636858620000589</td>\n",
       "      <td>C</td>\n",
       "      <td>NaN</td>\n",
       "      <td>NaN</td>\n",
       "      <td>20000589</td>\n",
       "      <td>1372636858</td>\n",
       "      <td>A</td>\n",
       "      <td>False</td>\n",
       "      <td>[[-8.618643,41.141412],[-8.618499,41.141376],[...</td>\n",
       "    </tr>\n",
       "    <tr>\n",
       "      <th>1</th>\n",
       "      <td>1372637303620000596</td>\n",
       "      <td>B</td>\n",
       "      <td>NaN</td>\n",
       "      <td>7.0</td>\n",
       "      <td>20000596</td>\n",
       "      <td>1372637303</td>\n",
       "      <td>A</td>\n",
       "      <td>False</td>\n",
       "      <td>[[-8.639847,41.159826],[-8.640351,41.159871],[...</td>\n",
       "    </tr>\n",
       "    <tr>\n",
       "      <th>2</th>\n",
       "      <td>1372636951620000320</td>\n",
       "      <td>C</td>\n",
       "      <td>NaN</td>\n",
       "      <td>NaN</td>\n",
       "      <td>20000320</td>\n",
       "      <td>1372636951</td>\n",
       "      <td>A</td>\n",
       "      <td>False</td>\n",
       "      <td>[[-8.612964,41.140359],[-8.613378,41.14035],[-...</td>\n",
       "    </tr>\n",
       "    <tr>\n",
       "      <th>3</th>\n",
       "      <td>1372636854620000520</td>\n",
       "      <td>C</td>\n",
       "      <td>NaN</td>\n",
       "      <td>NaN</td>\n",
       "      <td>20000520</td>\n",
       "      <td>1372636854</td>\n",
       "      <td>A</td>\n",
       "      <td>False</td>\n",
       "      <td>[[-8.574678,41.151951],[-8.574705,41.151942],[...</td>\n",
       "    </tr>\n",
       "    <tr>\n",
       "      <th>4</th>\n",
       "      <td>1372637091620000337</td>\n",
       "      <td>C</td>\n",
       "      <td>NaN</td>\n",
       "      <td>NaN</td>\n",
       "      <td>20000337</td>\n",
       "      <td>1372637091</td>\n",
       "      <td>A</td>\n",
       "      <td>False</td>\n",
       "      <td>[[-8.645994,41.18049],[-8.645949,41.180517],[-...</td>\n",
       "    </tr>\n",
       "  </tbody>\n",
       "</table>\n",
       "</div>"
      ],
      "text/plain": [
       "               TRIP_ID CALL_TYPE  ORIGIN_CALL  ORIGIN_STAND   TAXI_ID  \\\n",
       "0  1372636858620000589         C          NaN           NaN  20000589   \n",
       "1  1372637303620000596         B          NaN           7.0  20000596   \n",
       "2  1372636951620000320         C          NaN           NaN  20000320   \n",
       "3  1372636854620000520         C          NaN           NaN  20000520   \n",
       "4  1372637091620000337         C          NaN           NaN  20000337   \n",
       "\n",
       "    TIMESTAMP DAY_TYPE  MISSING_DATA  \\\n",
       "0  1372636858        A         False   \n",
       "1  1372637303        A         False   \n",
       "2  1372636951        A         False   \n",
       "3  1372636854        A         False   \n",
       "4  1372637091        A         False   \n",
       "\n",
       "                                            POLYLINE  \n",
       "0  [[-8.618643,41.141412],[-8.618499,41.141376],[...  \n",
       "1  [[-8.639847,41.159826],[-8.640351,41.159871],[...  \n",
       "2  [[-8.612964,41.140359],[-8.613378,41.14035],[-...  \n",
       "3  [[-8.574678,41.151951],[-8.574705,41.151942],[...  \n",
       "4  [[-8.645994,41.18049],[-8.645949,41.180517],[-...  "
      ]
     },
     "execution_count": 6,
     "metadata": {},
     "output_type": "execute_result"
    }
   ],
   "source": [
    "train_csv_path = 'data/trainData/train.csv'\n",
    "train_df = readCsvToDf(train_csv_path)\n",
    "train_df.head()"
   ]
  },
  {
   "cell_type": "markdown",
   "id": "e3e1471f",
   "metadata": {
    "id": "e3e1471f"
   },
   "source": [
    "**2. test.csv file**\n",
    "\n",
    "test.csv includes five test sets. Each one of these datasets refer to trips that occurred between 01/07/2014 and 31/12/2014. Each one of these data sets will provide a snapshot of the current network status on a given timestamp. It will provide partial trajectories for each one of the on-going trips during that specific moment.\n",
    "\n",
    "The five snapshots included on the test set refer to the following timestamps:\n",
    "\n",
    "- 14/08/2014 18:00:00\n",
    "\n",
    "- 30/09/2014 08:30:00\n",
    "\n",
    "- 06/10/2014 17:45:00\n",
    "\n",
    "- 01/11/2014 04:00:00\n",
    "- 21/12/2014 14:30:00\n",
    "\n"
   ]
  },
  {
   "cell_type": "code",
   "execution_count": 34,
   "id": "9bbe5c93",
   "metadata": {
    "id": "9bbe5c93",
    "outputId": "56b63c26-1698-4b55-f3a9-5913715ea09b"
   },
   "outputs": [
    {
     "data": {
      "text/html": [
       "<div>\n",
       "<style scoped>\n",
       "    .dataframe tbody tr th:only-of-type {\n",
       "        vertical-align: middle;\n",
       "    }\n",
       "\n",
       "    .dataframe tbody tr th {\n",
       "        vertical-align: top;\n",
       "    }\n",
       "\n",
       "    .dataframe thead th {\n",
       "        text-align: right;\n",
       "    }\n",
       "</style>\n",
       "<table border=\"1\" class=\"dataframe\">\n",
       "  <thead>\n",
       "    <tr style=\"text-align: right;\">\n",
       "      <th></th>\n",
       "      <th>TRIP_ID</th>\n",
       "      <th>CALL_TYPE</th>\n",
       "      <th>ORIGIN_CALL</th>\n",
       "      <th>ORIGIN_STAND</th>\n",
       "      <th>TAXI_ID</th>\n",
       "      <th>TIMESTAMP</th>\n",
       "      <th>DAY_TYPE</th>\n",
       "      <th>MISSING_DATA</th>\n",
       "      <th>POLYLINE</th>\n",
       "    </tr>\n",
       "  </thead>\n",
       "  <tbody>\n",
       "    <tr>\n",
       "      <th>0</th>\n",
       "      <td>T1</td>\n",
       "      <td>B</td>\n",
       "      <td>NaN</td>\n",
       "      <td>15.0</td>\n",
       "      <td>20000542</td>\n",
       "      <td>1408039037</td>\n",
       "      <td>A</td>\n",
       "      <td>False</td>\n",
       "      <td>[[-8.585676,41.148522],[-8.585712,41.148639],[...</td>\n",
       "    </tr>\n",
       "    <tr>\n",
       "      <th>1</th>\n",
       "      <td>T2</td>\n",
       "      <td>B</td>\n",
       "      <td>NaN</td>\n",
       "      <td>57.0</td>\n",
       "      <td>20000108</td>\n",
       "      <td>1408038611</td>\n",
       "      <td>A</td>\n",
       "      <td>False</td>\n",
       "      <td>[[-8.610876,41.14557],[-8.610858,41.145579],[-...</td>\n",
       "    </tr>\n",
       "    <tr>\n",
       "      <th>2</th>\n",
       "      <td>T3</td>\n",
       "      <td>B</td>\n",
       "      <td>NaN</td>\n",
       "      <td>15.0</td>\n",
       "      <td>20000370</td>\n",
       "      <td>1408038568</td>\n",
       "      <td>A</td>\n",
       "      <td>False</td>\n",
       "      <td>[[-8.585739,41.148558],[-8.58573,41.148828],[-...</td>\n",
       "    </tr>\n",
       "    <tr>\n",
       "      <th>3</th>\n",
       "      <td>T4</td>\n",
       "      <td>B</td>\n",
       "      <td>NaN</td>\n",
       "      <td>53.0</td>\n",
       "      <td>20000492</td>\n",
       "      <td>1408039090</td>\n",
       "      <td>A</td>\n",
       "      <td>False</td>\n",
       "      <td>[[-8.613963,41.141169],[-8.614125,41.141124],[...</td>\n",
       "    </tr>\n",
       "    <tr>\n",
       "      <th>4</th>\n",
       "      <td>T5</td>\n",
       "      <td>B</td>\n",
       "      <td>NaN</td>\n",
       "      <td>18.0</td>\n",
       "      <td>20000621</td>\n",
       "      <td>1408039177</td>\n",
       "      <td>A</td>\n",
       "      <td>False</td>\n",
       "      <td>[[-8.619903,41.148036],[-8.619894,41.148036]]</td>\n",
       "    </tr>\n",
       "  </tbody>\n",
       "</table>\n",
       "</div>"
      ],
      "text/plain": [
       "  TRIP_ID CALL_TYPE  ORIGIN_CALL  ORIGIN_STAND   TAXI_ID   TIMESTAMP DAY_TYPE  \\\n",
       "0      T1         B          NaN          15.0  20000542  1408039037        A   \n",
       "1      T2         B          NaN          57.0  20000108  1408038611        A   \n",
       "2      T3         B          NaN          15.0  20000370  1408038568        A   \n",
       "3      T4         B          NaN          53.0  20000492  1408039090        A   \n",
       "4      T5         B          NaN          18.0  20000621  1408039177        A   \n",
       "\n",
       "   MISSING_DATA                                           POLYLINE  \n",
       "0         False  [[-8.585676,41.148522],[-8.585712,41.148639],[...  \n",
       "1         False  [[-8.610876,41.14557],[-8.610858,41.145579],[-...  \n",
       "2         False  [[-8.585739,41.148558],[-8.58573,41.148828],[-...  \n",
       "3         False  [[-8.613963,41.141169],[-8.614125,41.141124],[...  \n",
       "4         False      [[-8.619903,41.148036],[-8.619894,41.148036]]  "
      ]
     },
     "execution_count": 34,
     "metadata": {},
     "output_type": "execute_result"
    }
   ],
   "source": [
    "test_csv_path = 'data/testData/test.csv'\n",
    "test_df = readCsvToDf(test_csv_path)\n",
    "test_df.head()"
   ]
  },
  {
   "cell_type": "markdown",
   "id": "329b619d",
   "metadata": {
    "id": "329b619d"
   },
   "source": [
    "**3. metaData.csv file**\n",
    "\n",
    "includes taxi `stand id name` and `Latitude`, `Longitude`."
   ]
  },
  {
   "cell_type": "code",
   "execution_count": null,
   "id": "30418c7c",
   "metadata": {
    "id": "30418c7c",
    "outputId": "a5136178-37c6-4fe0-c5ed-2a6e1784c687"
   },
   "outputs": [
    {
     "data": {
      "text/html": [
       "<div>\n",
       "<style scoped>\n",
       "    .dataframe tbody tr th:only-of-type {\n",
       "        vertical-align: middle;\n",
       "    }\n",
       "\n",
       "    .dataframe tbody tr th {\n",
       "        vertical-align: top;\n",
       "    }\n",
       "\n",
       "    .dataframe thead th {\n",
       "        text-align: right;\n",
       "    }\n",
       "</style>\n",
       "<table border=\"1\" class=\"dataframe\">\n",
       "  <thead>\n",
       "    <tr style=\"text-align: right;\">\n",
       "      <th></th>\n",
       "      <th>ID</th>\n",
       "      <th>Descricao</th>\n",
       "      <th>Latitude</th>\n",
       "      <th>Longitude</th>\n",
       "    </tr>\n",
       "  </thead>\n",
       "  <tbody>\n",
       "    <tr>\n",
       "      <th>0</th>\n",
       "      <td>1</td>\n",
       "      <td>Agra</td>\n",
       "      <td>41.1771457135</td>\n",
       "      <td>-8.609670</td>\n",
       "    </tr>\n",
       "    <tr>\n",
       "      <th>1</th>\n",
       "      <td>2</td>\n",
       "      <td>Alameda</td>\n",
       "      <td>41.15618964</td>\n",
       "      <td>-8.591064</td>\n",
       "    </tr>\n",
       "    <tr>\n",
       "      <th>2</th>\n",
       "      <td>3</td>\n",
       "      <td>Aldoar</td>\n",
       "      <td>41.1705249231</td>\n",
       "      <td>-8.665876</td>\n",
       "    </tr>\n",
       "    <tr>\n",
       "      <th>3</th>\n",
       "      <td>4</td>\n",
       "      <td>Alfândega</td>\n",
       "      <td>41.1437639911</td>\n",
       "      <td>-8.621803</td>\n",
       "    </tr>\n",
       "    <tr>\n",
       "      <th>4</th>\n",
       "      <td>5</td>\n",
       "      <td>Amial</td>\n",
       "      <td>41.1835097223</td>\n",
       "      <td>-8.612726</td>\n",
       "    </tr>\n",
       "  </tbody>\n",
       "</table>\n",
       "</div>"
      ],
      "text/plain": [
       "   ID  Descricao       Latitude  Longitude\n",
       "0   1       Agra  41.1771457135  -8.609670\n",
       "1   2    Alameda    41.15618964  -8.591064\n",
       "2   3     Aldoar  41.1705249231  -8.665876\n",
       "3   4  Alfândega  41.1437639911  -8.621803\n",
       "4   5      Amial  41.1835097223  -8.612726"
      ]
     },
     "execution_count": 22,
     "metadata": {},
     "output_type": "execute_result"
    }
   ],
   "source": [
    "meta_csv_path = 'data/metaData/metaData_taxistandsID_name_GPSlocation.csv'\n",
    "meta_df = readCsvToDf(meta_csv_path)\n",
    "meta_df.head()"
   ]
  },
  {
   "cell_type": "code",
   "execution_count": null,
   "id": "281-SgFl29C_",
   "metadata": {
    "id": "281-SgFl29C_"
   },
   "outputs": [],
   "source": []
  },
  {
   "cell_type": "markdown",
   "id": "lSzVt6im3TTr",
   "metadata": {
    "id": "lSzVt6im3TTr"
   },
   "source": [
    "\n",
    "### Learn the one-hot vector representation of coordinates\n",
    "\n",
    "To transform continuous GPS coordinates into discrete tokens for more effective data analysis, we convert continuous longitude and latitude coordinates into tokens. We split the space into equal-sized cells, treating each cell as a token. This means all sample points in the same cell get mapped to the same token.\n",
    "\n",
    "* Cell size: The default cell size in the experiments is 100 meters.\n",
    "\n",
    "**Benefits of This Approach:**\n",
    "- **Dimensionality Reduction:** Simplifies the complex input space of continuous coordinates into a manageable set of discrete tokens.\n",
    "- **Enhanced Spatial Analysis:** Facilitates the identification of spatial relationships and patterns that may not be evident in continuous data.\n",
    "- **Application of NLP Techniques:** Enables the use of NLP methodologies, like RNNs and LSTMs, for analyzing spatial data by treating trajectories as sequences of tokens.\n"
   ]
  },
  {
   "cell_type": "markdown",
   "id": "83fa7703",
   "metadata": {},
   "source": [
    "### get the boundary box of Porto\n",
    "To begin, we define the boundaries of the cells, ensuring a buffer of 0.1 units around the city of Porto. This buffer helps mitigate the impact of noisy coordinates from raw trajectories, preventing them from excessively enlarging the cells' dimensions."
   ]
  },
  {
   "cell_type": "code",
   "execution_count": 38,
   "id": "ca997a8e",
   "metadata": {},
   "outputs": [
    {
     "name": "stdout",
     "output_type": "stream",
     "text": [
      "Bounding box for Porto: (41.0494512, 41.2494512, -8.7107884, -8.510788400000001)\n"
     ]
    },
    {
     "data": {
      "text/html": [
       "\n",
       "        <iframe\n",
       "            width=\"1200\"\n",
       "            height=\"500\"\n",
       "            src=\"map.html\"\n",
       "            frameborder=\"0\"\n",
       "            allowfullscreen\n",
       "            \n",
       "        ></iframe>\n",
       "        "
      ],
      "text/plain": [
       "<IPython.lib.display.IFrame at 0x7f8969b8d640>"
      ]
     },
     "metadata": {},
     "output_type": "display_data"
    }
   ],
   "source": [
    "import folium\n",
    "from geopy.geocoders import Nominatim\n",
    "from IPython.display import IFrame\n",
    "\n",
    "def get_bounding_box(city_name, buffer=0.1):\n",
    "    geolocator = Nominatim(user_agent=\"city_bounding_box\")\n",
    "    location = geolocator.geocode(city_name)\n",
    "\n",
    "    if location is None:\n",
    "        return None\n",
    "\n",
    "    # Extracting coordinates\n",
    "    lat = location.latitude\n",
    "    lon = location.longitude\n",
    "\n",
    "    # Calculating bounding box\n",
    "    lat_min_boundary = lat - buffer\n",
    "    lat_max_boundary = lat + buffer\n",
    "    lon_min_boundary = lon - buffer\n",
    "    lon_max_boundary = lon + buffer\n",
    "\n",
    "    return lat_min_boundary, lat_max_boundary, lon_min_boundary, lon_max_boundary\n",
    "\n",
    "city_name = \"Porto\"\n",
    "bounding_box = get_bounding_box(city_name)\n",
    "\n",
    "if bounding_box:\n",
    "    print(f\"Bounding box for {city_name}: {bounding_box}\")\n",
    "else:\n",
    "    print(f\"Could not find coordinates for {city_name}\")\n",
    "\n",
    "# Display the map\n",
    "if bounding_box:\n",
    "    map_center = [(bounding_box[0] + bounding_box[1]) / 2, (bounding_box[2] + bounding_box[3]) / 2]\n",
    "    m = folium.Map(location=map_center, zoom_start=10)\n",
    "    folium.Rectangle(bounds=[(bounding_box[0], bounding_box[2]), (bounding_box[1], bounding_box[3])],\n",
    "                      color='blue',\n",
    "                      fill_opacity=0.1).add_to(m)\n",
    "    map_name = \"map.html\"\n",
    "    m.save(map_name)\n",
    "    display(IFrame(src=map_name, width=1200, height=500))\n"
   ]
  },
  {
   "cell_type": "markdown",
   "id": "70db1e82",
   "metadata": {},
   "source": [
    "### remove trajectories that are out of boundary\n",
    "We remove trajectories that fall outside the boundary of Porto. Out of 1,710,670 trajectories in the training data, 1,687,544 remain within the boundary. This simplifies the data handling process, focusing only on trajectories relevant to the defined area."
   ]
  },
  {
   "cell_type": "code",
   "execution_count": 74,
   "id": "Ae2MvzTJFJiA",
   "metadata": {
    "colab": {
     "base_uri": "https://localhost:8080/"
    },
    "executionInfo": {
     "elapsed": 1069728,
     "status": "ok",
     "timestamp": 1709776708329,
     "user": {
      "displayName": "Peizhi WU",
      "userId": "15522070970651565039"
     },
     "user_tz": 300
    },
    "id": "Ae2MvzTJFJiA",
    "outputId": "fb16b01b-f0d5-450e-d664-7997e56ab859"
   },
   "outputs": [],
   "source": [
    "import ast\n",
    "import pandas as pd\n",
    "\n",
    "def drop_trajectory_outside_boundary(df, boundary_box):\n",
    "    \"\"\"\n",
    "    Filters rows from the input DataFrame based on coordinate conditions.\n",
    "\n",
    "    Parameters:\n",
    "    df (DataFrame): Input DataFrame containing the 'POLYLINE' column.\n",
    "    boundary_box (tuple): Tuple containing the boundary box coordinates (lat_min, lat_max, lon_min, lon_max).\n",
    "\n",
    "    Returns:\n",
    "    DataFrame: Filtered DataFrame with rows dropped based on coordinate conditions.\n",
    "    \"\"\"\n",
    "    filtered_rows = []\n",
    "    count = 0\n",
    "    for index, row in df.iterrows():\n",
    "        polyline_list = ast.literal_eval(row['POLYLINE'])\n",
    "        drop_row = False\n",
    "\n",
    "        for coord in polyline_list:\n",
    "            lon, lat = coord\n",
    "            # Check if coordinate is outside the bounding box\n",
    "            if not (boundary_box[0] <= lat <= boundary_box[1] and boundary_box[2] <= lon <= boundary_box[3]):\n",
    "                count += 1\n",
    "                if (count%100 == 0):\n",
    "                    print(\".\", end=\"\")\n",
    "                drop_row = True\n",
    "                break\n",
    "\n",
    "        if not drop_row:\n",
    "            filtered_rows.append(row)\n",
    "\n",
    "    filtered_df = pd.DataFrame(filtered_rows)\n",
    "    return filtered_df\n"
   ]
  },
  {
   "cell_type": "code",
   "execution_count": 9,
   "id": "50be6751",
   "metadata": {},
   "outputs": [
    {
     "name": "stdout",
     "output_type": "stream",
     "text": [
      "(1710670, 9)\n",
      "Dropping trajectory with noisy coordinates\n",
      ".......................................................................................................................................................................................................................................\n",
      "(1687544, 9)\n"
     ]
    }
   ],
   "source": [
    "print(train_df.shape)\n",
    "print(\"Dropping trajectory outside boundary for train data\", end=\"\\n\")\n",
    "filtered_train_df = drop_trajectory_outside_boundary(train_df, bounding_box)\n",
    "print()\n",
    "print(filtered_train_df.shape)"
   ]
  },
  {
   "cell_type": "code",
   "execution_count": 11,
   "id": "e97d5a80",
   "metadata": {},
   "outputs": [],
   "source": [
    "filtered_train_df.to_csv('data/trainData/filtered_train_df.csv', index=False)"
   ]
  },
  {
   "cell_type": "markdown",
   "id": "60dd5a0b",
   "metadata": {},
   "source": [
    "### get the cell grids dimensions\n",
    "Based on the boundary box and the specified cell size, the dimensions of the cell grid are determined to be 223 cells wide and 168 cells tall. This means that the geographical area encompassing Porto has been discretized into a grid consisting of 223 columns and 168 rows of cells."
   ]
  },
  {
   "cell_type": "code",
   "execution_count": 40,
   "id": "050CteYVFJnU",
   "metadata": {
    "executionInfo": {
     "elapsed": 1948,
     "status": "ok",
     "timestamp": 1709777320361,
     "user": {
      "displayName": "Peizhi WU",
      "userId": "15522070970651565039"
     },
     "user_tz": 300
    },
    "id": "050CteYVFJnU"
   },
   "outputs": [],
   "source": [
    "import numpy as np\n",
    "import json\n",
    "import pandas as pd\n",
    "\n",
    "\n",
    "def calculate_cell_dimensions(boundary_box, cell_size_meters=100):\n",
    "    \"\"\"\n",
    "    Calculate the number of rows and columns in the grid.\n",
    "\n",
    "    Parameters:\n",
    "    - boundary_box: Spatial bounds of the area.\n",
    "    - cell_size_meters: Size of each cell in meters.\n",
    "\n",
    "    Returns:\n",
    "    - Tuple (num_rows, num_cols): Dimensions of the grid.\n",
    "    \"\"\"\n",
    "\n",
    "    min_lat = boundary_box[0]\n",
    "    max_lat = boundary_box[1]\n",
    "    min_lon = boundary_box[2]\n",
    "    max_lon = boundary_box[3]\n",
    "   \n",
    "    \n",
    "    # Earth's radius in meters and conversion factor from degrees to meters\n",
    "    R = 6371000\n",
    "    m_per_deg_lat = R * np.pi / 180\n",
    "    avg_lat = np.radians((min_lat + max_lat) / 2)\n",
    "    m_per_deg_lon = R * np.cos(avg_lat) * np.pi / 180\n",
    "\n",
    "    # Calculate grid dimensions\n",
    "    \n",
    "    lat_extent_m = (max_lat - min_lat) * m_per_deg_lat\n",
    "    lon_extent_m = (max_lon - min_lon) * m_per_deg_lon\n",
    "    num_rows = int(np.ceil(lat_extent_m / cell_size_meters))\n",
    "    num_cols = int(np.ceil(lon_extent_m / cell_size_meters))\n",
    "\n",
    "    return num_rows, num_cols\n",
    "\n"
   ]
  },
  {
   "cell_type": "code",
   "execution_count": 42,
   "id": "TdViGjsrH-Ry",
   "metadata": {
    "colab": {
     "base_uri": "https://localhost:8080/"
    },
    "executionInfo": {
     "elapsed": 132,
     "status": "ok",
     "timestamp": 1709776994558,
     "user": {
      "displayName": "Peizhi WU",
      "userId": "15522070970651565039"
     },
     "user_tz": 300
    },
    "id": "TdViGjsrH-Ry",
    "outputId": "99be9d66-0a6e-4ca1-80be-e4329a265986"
   },
   "outputs": [
    {
     "name": "stdout",
     "output_type": "stream",
     "text": [
      "223 168\n"
     ]
    }
   ],
   "source": [
    "# Calculate Grid Dimensions\n",
    "\n",
    "num_rows, num_cols = calculate_grid_dimensions(bounding_box)\n",
    "print(num_rows, num_cols)\n"
   ]
  },
  {
   "cell_type": "markdown",
   "id": "82a5f3aa",
   "metadata": {},
   "source": [
    "### converting raw trajectory into one-hot vector representations\n",
    "We're converting the raw trajectory data into one-hot vector representations, where each point is encoded with only the cell ID. Instead of saving the complete sparse vectors, we'll store only the cell IDs in JSON files. \n",
    "\n",
    "To keep things manageable, we're slicing trajectories into chunks of 100,000 and saving each chunk separately. This helps prevent any issues with system resources and keeps the process safe."
   ]
  },
  {
   "cell_type": "code",
   "execution_count": 75,
   "id": "c499ca51",
   "metadata": {},
   "outputs": [],
   "source": [
    "\n",
    "def polyline_to_onehot(polyline_series, gps_to_cell_index_func, min_lon, min_lat, max_lon, max_lat, num_rows, num_cols):\n",
    "    \"\"\"\n",
    "    Convert a series of polyline strings to lists of one-hot encoded vectors.\n",
    "\n",
    "    Parameters:\n",
    "    - polyline_series (pandas.Series): Series containing POLYLINE strings with GPS coordinates.\n",
    "    - gps_to_cell_index_func (function): Function that maps GPS coordinates to a cell index.\n",
    "    - min_lon, min_lat, max_lon, max_lat (floats): Spatial bounds of the grid.\n",
    "    - num_rows, num_cols (int): Dimensions of the grid (number of rows and columns).\n",
    "\n",
    "\n",
    "    Returns:\n",
    "    - pandas.Series: A Series where each element is a list of one-hot encoded vectors representing the trajectory.\n",
    "    \"\"\"\n",
    "\n",
    "    one_hot_series = polyline_series.apply(lambda polyline_str: _polyline_str_to_onehot(polyline_str, gps_to_cell_index_func, min_lon, min_lat, max_lon, max_lat, num_rows, num_cols))\n",
    "    return one_hot_series\n",
    "\n",
    "def _polyline_str_to_onehot(polyline_str, gps_to_cell_index_func, min_lon, min_lat, max_lon, max_lat, num_rows, num_cols):\n",
    "    gps_coordinates = json.loads(polyline_str)\n",
    "    one_hot_vectors = []\n",
    "    for lon, lat in gps_coordinates:\n",
    "        cell_index = gps_to_cell_index_func(lon, lat, min_lon, min_lat, num_rows, num_cols)        \n",
    "        one_hot_vectors.append(cell_index)\n",
    "    return one_hot_vectors\n",
    "\n",
    "def gps_to_cell_index(lon, lat, min_lon, min_lat, num_rows, num_cols, cell_size_meters=100):\n",
    "    \"\"\"\n",
    "    Map GPS coordinates to a grid cell index.\n",
    "\n",
    "    Parameters:\n",
    "    - lon, lat: GPS coordinates.\n",
    "    - min_lon, min_lat: Minimum longitude and latitude of the grid.\n",
    "    - num_rows, num_cols: Grid dimensions.\n",
    "    - cell_size_meters: Cell size.\n",
    "\n",
    "    Returns:\n",
    "    - int: Index of the cell.\n",
    "    \"\"\"\n",
    "    # Convert GPS coordinates to meters\n",
    "    R = 6371000\n",
    "    m_per_deg_lat = R * np.pi / 180\n",
    "    avg_lat = np.radians((min_lat + lat) / 2)\n",
    "    m_per_deg_lon = R * np.cos(avg_lat) * np.pi / 180\n",
    "\n",
    "    lat_m = (lat - min_lat) * m_per_deg_lat\n",
    "    lon_m = (lon - min_lon) * m_per_deg_lon\n",
    "\n",
    "    # Calculate row and column in the grid\n",
    "    row = int(lat_m / cell_size_meters)\n",
    "    col = int(lon_m / cell_size_meters)\n",
    "\n",
    "    # Ensure row and column are within the bounds of the grid\n",
    "    row = min(max(row, 0), num_rows - 1)\n",
    "    col = min(max(col, 0), num_cols - 1)\n",
    "\n",
    "    return row * num_cols + col"
   ]
  },
  {
   "cell_type": "code",
   "execution_count": 76,
   "id": "bd5aef88",
   "metadata": {},
   "outputs": [],
   "source": [
    "import os\n",
    "\n",
    "def slice_and_convert_polylines(df, start_index, end_index, gps_to_cell_index, min_lon, min_lat, max_lon, max_lat, num_rows, num_cols, directory_path):\n",
    "    \"\"\"\n",
    "    Slices a range of polylines from a dataframe, converts them into one-hot encoded vectors based on their geographical position, and saves the result to a JSON file.\n",
    "    \n",
    "    Parameters:\n",
    "    - df: DataFrame containing the polyline data.\n",
    "    - start_index: The starting index of the slice.\n",
    "    - end_index: The ending index of the slice.\n",
    "    - gps_to_cell_index: A function that converts GPS coordinates to cell indices.\n",
    "    - min_lon: Minimum longitude of the area of interest.\n",
    "    - min_lat: Minimum latitude of the area of interest.\n",
    "    - max_lon: Maximum longitude of the area of interest.\n",
    "    - max_lat: Maximum latitude of the area of interest.\n",
    "    - num_rows: Number of rows in the grid representation.\n",
    "    - num_cols: Number of columns in the grid representation.\n",
    "    - directory_path: The directory path where the JSON file will be saved.\n",
    "    \n",
    "    The function will check if the directory exists and create it if necessary before saving the JSON file.\n",
    "    \"\"\"\n",
    "    # Ensure the directory exists\n",
    "    if not os.path.exists(directory_path):\n",
    "        os.makedirs(directory_path, exist_ok=True)\n",
    "\n",
    "    # Slicing polylines from the dataframe\n",
    "    sliced_polylines = df['POLYLINE'][start_index:end_index]\n",
    "    \n",
    "    # Convert polyline strings to one-hot encoded vectors\n",
    "    one_hot_series = polyline_to_onehot(sliced_polylines, gps_to_cell_index, min_lon, min_lat, max_lon, max_lat, num_rows, num_cols)\n",
    "    \n",
    "    json_str = one_hot_series.to_json()\n",
    "    \n",
    "    file_path = f'{directory_path}/one_hot_vectors_batch_{start_index}_{end_index}.json'  \n",
    "    with open(file_path, 'w') as file:\n",
    "        file.write(json_str)\n",
    "    \n",
    "    # Print saving information\n",
    "    print(f\"Saved batch from index {start_index} to {end_index} to file: {file_path}\")\n"
   ]
  },
  {
   "cell_type": "code",
   "execution_count": 27,
   "id": "47ba015f",
   "metadata": {},
   "outputs": [],
   "source": [
    "import pandas as pd\n",
    "import json\n",
    "import pandas as pd\n",
    "import numpy as np\n",
    "\n",
    "def readCsvToDf(csv_path):\n",
    "    df = pd.read_csv(csv_path)\n",
    "    return df\n",
    "\n",
    "filtered_train_df = readCsvToDf('data/trainData/filtered_train_df.csv')\n",
    "\n"
   ]
  },
  {
   "cell_type": "code",
   "execution_count": 72,
   "id": "ceabe250",
   "metadata": {},
   "outputs": [
    {
     "name": "stdout",
     "output_type": "stream",
     "text": [
      "Saved batch from index 0 to 100000 to file: data/trainData/oneHotVectorData/one_hot_vectors_batch_0_100000.json\n",
      "Saved batch from index 100000 to 200000 to file: data/trainData/oneHotVectorData/one_hot_vectors_batch_100000_200000.json\n",
      "Saved batch from index 200000 to 300000 to file: data/trainData/oneHotVectorData/one_hot_vectors_batch_200000_300000.json\n",
      "Saved batch from index 300000 to 400000 to file: data/trainData/oneHotVectorData/one_hot_vectors_batch_300000_400000.json\n",
      "Saved batch from index 400000 to 500000 to file: data/trainData/oneHotVectorData/one_hot_vectors_batch_400000_500000.json\n",
      "Saved batch from index 500000 to 600000 to file: data/trainData/oneHotVectorData/one_hot_vectors_batch_500000_600000.json\n",
      "Saved batch from index 600000 to 700000 to file: data/trainData/oneHotVectorData/one_hot_vectors_batch_600000_700000.json\n",
      "Saved batch from index 700000 to 800000 to file: data/trainData/oneHotVectorData/one_hot_vectors_batch_700000_800000.json\n",
      "Saved batch from index 800000 to 900000 to file: data/trainData/oneHotVectorData/one_hot_vectors_batch_800000_900000.json\n",
      "Saved batch from index 900000 to 1000000 to file: data/trainData/oneHotVectorData/one_hot_vectors_batch_900000_1000000.json\n",
      "Saved batch from index 1000000 to 1100000 to file: data/trainData/oneHotVectorData/one_hot_vectors_batch_1000000_1100000.json\n",
      "Saved batch from index 1100000 to 1200000 to file: data/trainData/oneHotVectorData/one_hot_vectors_batch_1100000_1200000.json\n",
      "Saved batch from index 1200000 to 1300000 to file: data/trainData/oneHotVectorData/one_hot_vectors_batch_1200000_1300000.json\n",
      "Saved batch from index 1300000 to 1400000 to file: data/trainData/oneHotVectorData/one_hot_vectors_batch_1300000_1400000.json\n",
      "Saved batch from index 1400000 to 1500000 to file: data/trainData/oneHotVectorData/one_hot_vectors_batch_1400000_1500000.json\n",
      "Saved batch from index 1500000 to 1600000 to file: data/trainData/oneHotVectorData/one_hot_vectors_batch_1500000_1600000.json\n",
      "Saved batch from index 1600000 to 1687544 to file: data/trainData/oneHotVectorData/one_hot_vectors_batch_1600000_1687544.json\n"
     ]
    }
   ],
   "source": [
    "# Step 3: Convert Polylines to One-Hot Encoded Vectors\n",
    "min_lon = -8.710785 \n",
    "min_lat = 41.049459 \n",
    "max_lon = -8.510796 \n",
    "max_lat = 41.249448\n",
    "num_rows = 223\n",
    "num_cols = 168\n",
    "\n",
    "df_num_rows = len(filtered_train_df)\n",
    "batch_size = 100000\n",
    "for i in range(0, df_num_rows, batch_size):\n",
    "    start_index = i\n",
    "    end_index = min(i + batch_size, df_num_rows)\n",
    "    slice_and_convert_polylines(filtered_train_df, start_index, end_index, gps_to_cell_index=gps_to_cell_index, min_lon=min_lon, min_lat=min_lat, max_lon=max_lon, max_lat=max_lat, num_rows=num_rows, num_cols=num_cols, directory_path = 'data/trainData/oneHotVectorData')\n",
    "# slice_and_convert_polylines(filtered_train_df, start_index=0, end_index=len(filtered_train_df), gps_to_cell_index=gps_to_cell_index, min_lon=min_lon, min_lat=min_lat, max_lon=max_lon, max_lat=max_lat, num_rows=num_rows, num_cols=num_cols, directory_path = 'data/trainData')\n"
   ]
  },
  {
   "cell_type": "markdown",
   "id": "63eb225e",
   "metadata": {},
   "source": [
    "### same process of the test data\n",
    "Apply the same process to the test data: discard trajectories falling outside the boundary, and convert them into one-hot vectors."
   ]
  },
  {
   "cell_type": "code",
   "execution_count": 77,
   "id": "2e236e19",
   "metadata": {},
   "outputs": [
    {
     "name": "stdout",
     "output_type": "stream",
     "text": [
      "(320, 9)\n",
      "Dropping trajectory outside boundary for test data\n",
      "\n",
      "(316, 9)\n"
     ]
    }
   ],
   "source": [
    "\n",
    "print(test_df.shape)\n",
    "print(\"Dropping trajectory outside boundary for test data\", end=\"\\n\")\n",
    "filtered_test_df = drop_trajectory_outside_boundary(test_df, bounding_box)\n",
    "print()\n",
    "print(filtered_test_df.shape)\n",
    "\n",
    "filtered_test_df.to_csv('data/testData/filtered_test_df.csv', index=False)"
   ]
  },
  {
   "cell_type": "code",
   "execution_count": 78,
   "id": "2a933c86",
   "metadata": {},
   "outputs": [
    {
     "name": "stdout",
     "output_type": "stream",
     "text": [
      "Saved batch from index 0 to 316 to file: data/testData/oneHotVectorData/one_hot_vectors_batch_0_316.json\n"
     ]
    }
   ],
   "source": [
    "slice_and_convert_polylines(filtered_test_df, start_index=0, end_index=len(filtered_test_df), gps_to_cell_index=gps_to_cell_index, min_lon=min_lon, min_lat=min_lat, max_lon=max_lon, max_lat=max_lat, num_rows=num_rows, num_cols=num_cols, directory_path = 'data/testData/oneHotVectorData')\n"
   ]
  },
  {
   "cell_type": "markdown",
   "id": "67354917",
   "metadata": {},
   "source": [
    "### visualize the one-hot vectors\n",
    "Let's verify our approach by plotting the trajectory as one-hot vectors, with cells represented as white (for the cell with the corresponding cell_id) against a black background. From the sample plots, we can observe success: trajectories vary in length, with some extensive and others just a single dot. Overall, the plots appear reasonable and resemble a genuine trajectory pixel image."
   ]
  },
  {
   "cell_type": "code",
   "execution_count": 63,
   "id": "f11ba5eb",
   "metadata": {},
   "outputs": [],
   "source": [
    "import numpy as np\n",
    "import matplotlib.pyplot as plt\n",
    "import json\n",
    "import random\n",
    "\n",
    "def plot_zoomed_cells_subplot(cell_ids, subplot_pos, num_rows=223, num_cols=168, padding=5, ax=None):\n",
    "    \"\"\"\n",
    "    Plots a zoomed-in image of a grid with specified IDs blacked out on a subplot.\n",
    "    \n",
    "    :param grid_ids: List of grid IDs to black out.\n",
    "    :param subplot_pos: Position of the subplot.\n",
    "    :param num_rows: Number of rows in the grid.\n",
    "    :param num_cols: Number of columns in the grid.\n",
    "    :param padding: Padding around the zoomed region for better visibility.\n",
    "    :param ax: Axes object to plot on.\n",
    "    \"\"\"\n",
    "    # Initialize the cell\n",
    "    cell = np.zeros((num_rows, num_cols))\n",
    "    \n",
    "    # Black out the specified cells\n",
    "    for cell_id in cell_ids:\n",
    "        row = cell_id // num_cols\n",
    "        col = cell_id % num_cols\n",
    "        cell[row, col] = 1\n",
    "\n",
    "    # Recalculate the positions to find the bounds\n",
    "    rows = [cell_id // num_cols for cell_id in cell_ids]\n",
    "    cols = [cell_id % num_cols for cell_id in cell_ids]\n",
    "\n",
    "    # Find the bounding box of the specified cells\n",
    "    min_row, max_row = min(rows), max(rows)\n",
    "    min_col, max_col = min(cols), max(cols)\n",
    "\n",
    "    # Add some padding to the bounding box for better visibility\n",
    "    min_row = max(0, min_row - padding)\n",
    "    max_row = min(num_rows - 1, max_row + padding)\n",
    "    min_col = max(0, min_col - padding)\n",
    "    max_col = min(num_cols - 1, max_col + padding)\n",
    "\n",
    "    # Zoom in on the specified region\n",
    "    zoomed_cell = cell[min_row:max_row+1, min_col:max_col+1]\n",
    "\n",
    "    # Plot on the specified subplot\n",
    "    ax.imshow(zoomed_grid, cmap='gray')\n",
    "    ax.axis('off')  # Hide the axes\n",
    "\n",
    "\n"
   ]
  },
  {
   "cell_type": "code",
   "execution_count": 173,
   "id": "be0ba6b0",
   "metadata": {},
   "outputs": [],
   "source": [
    "import numpy as np\n",
    "import matplotlib.pyplot as plt\n",
    "\n",
    "def plot_zoomed_cells_subplot(cell_ids, subplot_pos, num_rows=223, num_cols=168, padding=5, ax=None):\n",
    "    \"\"\"\n",
    "    Plots a zoomed-in image of a grid with specified IDs in black (with alpha transparency) on a white background.\n",
    "    \n",
    "    :param cell_ids: List of cell IDs to highlight.\n",
    "    :param subplot_pos: Position of the subplot.\n",
    "    :param num_rows: Number of rows in the grid.\n",
    "    :param num_cols: Number of columns in the grid.\n",
    "    :param padding: Padding around the zoomed region for better visibility.\n",
    "    :param ax: Axes object to plot on.\n",
    "    \"\"\"\n",
    "    # Initialize the grid to white\n",
    "    grid = np.ones((num_rows, num_cols, 4))  # Use RGBA for the third dimension\n",
    "    \n",
    "    # Set specified cells to black with alpha=0.5\n",
    "    for cell_id in cell_ids:\n",
    "        row = cell_id // num_cols\n",
    "        col = cell_id % num_cols\n",
    "        grid[row, col] = [0, 0, 0, 0.5]  # RGBA for black with alpha 0.5\n",
    "\n",
    "    # Recalculate the positions to find the bounds\n",
    "    rows = [cell_id // num_cols for cell_id in cell_ids]\n",
    "    cols = [cell_id % num_cols for cell_id in cell_ids]\n",
    "\n",
    "    # Find the bounding box of the specified cells\n",
    "    min_row, max_row = min(rows), max(rows)\n",
    "    min_col, max_col = min(cols), max(cols)\n",
    "\n",
    "    # Add some padding to the bounding box for better visibility\n",
    "    min_row = max(0, min_row - padding)\n",
    "    max_row = min(num_rows - 1, max_row + padding)\n",
    "    min_col = max(0, min_col - padding)\n",
    "    max_col = min(num_cols - 1, max_col + padding)\n",
    "\n",
    "    # Zoom in on the specified region\n",
    "    zoomed_grid = grid[min_row:max_row+1, min_col:max_col+1]\n",
    "\n",
    "    # Plot on the specified subplot\n",
    "    if ax is not None:\n",
    "        ax.imshow(zoomed_grid)\n",
    "        ax.axis('off')  # Hide the axes\n",
    "    else:\n",
    "        plt.imshow(zoomed_grid)\n",
    "        plt.axis('off')\n",
    "        plt.show()\n",
    "\n",
    "\n"
   ]
  },
  {
   "cell_type": "code",
   "execution_count": 187,
   "id": "fb1cc8d9",
   "metadata": {},
   "outputs": [
    {
     "data": {
      "image/png": "[encoded data removed]",
      "text/plain": [
       "<Figure size 1080x720 with 12 Axes>"
      ]
     },
     "metadata": {
      "needs_background": "light"
     },
     "output_type": "display_data"
    }
   ],
   "source": [
    "import random\n",
    "# Load data\n",
    "with open('data/testData/oneHotVectorData/one_hot_vectors_batch_0_316.json', 'r') as file:\n",
    "    data = json.load(file)\n",
    "\n",
    "# Create a figure for subplots\n",
    "fig, axs = plt.subplots(4, 3, figsize=(15, 10))\n",
    "\n",
    "for i, ax in enumerate(axs.flat):\n",
    "   \n",
    "    key = random.choice(list(data.keys()))\n",
    "    cell_ids = data[key]\n",
    "    plot_zoomed_cells_subplot(cell_ids, i, ax=ax)\n",
    "\n",
    "plt.tight_layout()\n",
    "plt.show()"
   ]
  },
  {
   "cell_type": "code",
   "execution_count": 181,
   "id": "45744914",
   "metadata": {},
   "outputs": [
    {
     "ename": "FileNotFoundError",
     "evalue": "[Errno 2] No such file or directory: 'data/testData/oneHotVectorData/one_hot_df_batch_0_316.json'",
     "output_type": "error",
     "traceback": [
      "\u001b[0;31m---------------------------------------------------------------------------\u001b[0m",
      "\u001b[0;31mFileNotFoundError\u001b[0m                         Traceback (most recent call last)",
      "\u001b[0;32m/var/folders/k6/532x89vs5pb6w5twy9by4tl80000gn/T/ipykernel_43501/3014037038.py\u001b[0m in \u001b[0;36m<module>\u001b[0;34m\u001b[0m\n\u001b[1;32m      1\u001b[0m \u001b[0;31m# Load data\u001b[0m\u001b[0;34m\u001b[0m\u001b[0;34m\u001b[0m\u001b[0m\n\u001b[0;32m----> 2\u001b[0;31m \u001b[0;32mwith\u001b[0m \u001b[0mopen\u001b[0m\u001b[0;34m(\u001b[0m\u001b[0;34m'data/testData/oneHotVectorData/one_hot_df_batch_0_316.json'\u001b[0m\u001b[0;34m,\u001b[0m \u001b[0;34m'r'\u001b[0m\u001b[0;34m)\u001b[0m \u001b[0;32mas\u001b[0m \u001b[0mfile\u001b[0m\u001b[0;34m:\u001b[0m\u001b[0;34m\u001b[0m\u001b[0;34m\u001b[0m\u001b[0m\n\u001b[0m\u001b[1;32m      3\u001b[0m     \u001b[0mdata\u001b[0m \u001b[0;34m=\u001b[0m \u001b[0mjson\u001b[0m\u001b[0;34m.\u001b[0m\u001b[0mload\u001b[0m\u001b[0;34m(\u001b[0m\u001b[0mfile\u001b[0m\u001b[0;34m)\u001b[0m\u001b[0;34m\u001b[0m\u001b[0;34m\u001b[0m\u001b[0m\n\u001b[1;32m      4\u001b[0m \u001b[0;34m\u001b[0m\u001b[0m\n\u001b[1;32m      5\u001b[0m \u001b[0;31m# Create a figure for subplots\u001b[0m\u001b[0;34m\u001b[0m\u001b[0;34m\u001b[0m\u001b[0m\n",
      "\u001b[0;31mFileNotFoundError\u001b[0m: [Errno 2] No such file or directory: 'data/testData/oneHotVectorData/one_hot_df_batch_0_316.json'"
     ]
    }
   ],
   "source": [
    "# Load data\n",
    "with open('data/testData/oneHotVectorData/one_hot_df_batch_0_316.json', 'r') as file:\n",
    "    data = json.load(file)\n",
    "\n",
    "# Create a figure for subplots\n",
    "fig, axs = plt.subplots(4, 3, figsize=(15, 10))\n",
    "\n",
    "for i, ax in enumerate(axs.flat):\n",
    "   \n",
    "    key = random.choice(list(data.keys()))\n",
    "    cell_ids = data[key]\n",
    "    plot_zoomed_cells_subplot(cell_ids, i, ax=ax)\n",
    "\n",
    "plt.tight_layout()\n",
    "plt.show()"
   ]
  },
  {
   "cell_type": "markdown",
   "id": "795ac37e",
   "metadata": {
    "id": "795ac37e"
   },
   "source": [
    "## 5. Learning Trajectory Embedding Representation\n",
    "\n",
    "Given our objective of conducting a next POI prediction and similar trajectory search—two widely practiced tasks in data science—we will first delve into a fundamental problem --- learning embeddings representation for taxi trajectory data. Utilizing advanced deep learning techniques, we aim to learn a unified representation for taxi trajectory data that can support the two downstream tasks (next POI prediction and similarity search). The high-level idea is to use neural networks to learn low-dimensional embedding for taxi trajectory data such that two trajectories have similar spatial and temporal patterns if they are close in the embedding space."
   ]
  },
  {
   "cell_type": "markdown",
   "id": "0645345b",
   "metadata": {
    "id": "0645345b"
   },
   "source": [
    "### 5.1 Importing relevant libraries\n",
    "We opt for the Pytorch libraries to learn and train a deep learning model that embeds taxi trajectory data into low-dimensional vector space. First, we need to import Pytorch libararies"
   ]
  },
  {
   "cell_type": "code",
   "execution_count": 80,
   "id": "1e7b49c4",
   "metadata": {},
   "outputs": [
    {
     "name": "stdout",
     "output_type": "stream",
     "text": [
      "Collecting torch\n",
      "  Downloading torch-2.2.1-cp39-none-macosx_10_9_x86_64.whl.metadata (25 kB)\n",
      "Collecting torchvision\n",
      "  Downloading torchvision-0.17.1-cp39-cp39-macosx_10_13_x86_64.whl.metadata (6.6 kB)\n",
      "Collecting torchaudio\n",
      "  Downloading torchaudio-2.2.1-cp39-cp39-macosx_10_13_x86_64.whl.metadata (6.4 kB)\n",
      "Requirement already satisfied: filelock in /Users/pagewu/opt/anaconda3/lib/python3.9/site-packages (from torch) (3.3.1)\n",
      "Requirement already satisfied: typing-extensions>=4.8.0 in /Users/pagewu/opt/anaconda3/lib/python3.9/site-packages (from torch) (4.9.0)\n",
      "Requirement already satisfied: sympy in /Users/pagewu/opt/anaconda3/lib/python3.9/site-packages (from torch) (1.9)\n",
      "Requirement already satisfied: networkx in /Users/pagewu/opt/anaconda3/lib/python3.9/site-packages (from torch) (2.6.3)\n",
      "Requirement already satisfied: jinja2 in /Users/pagewu/opt/anaconda3/lib/python3.9/site-packages (from torch) (2.11.3)\n",
      "Requirement already satisfied: fsspec in /Users/pagewu/opt/anaconda3/lib/python3.9/site-packages (from torch) (2021.8.1)\n",
      "Requirement already satisfied: numpy in /Users/pagewu/opt/anaconda3/lib/python3.9/site-packages (from torchvision) (1.20.3)\n",
      "Requirement already satisfied: pillow!=8.3.*,>=5.3.0 in /Users/pagewu/opt/anaconda3/lib/python3.9/site-packages (from torchvision) (8.4.0)\n",
      "Requirement already satisfied: MarkupSafe>=0.23 in /Users/pagewu/opt/anaconda3/lib/python3.9/site-packages (from jinja2->torch) (1.1.1)\n",
      "Requirement already satisfied: mpmath>=0.19 in /Users/pagewu/opt/anaconda3/lib/python3.9/site-packages (from sympy->torch) (1.2.1)\n",
      "Downloading torch-2.2.1-cp39-none-macosx_10_9_x86_64.whl (150.8 MB)\n",
      "\u001b[2K   \u001b[90m━━━━━━━━━━━━━━━━━━━━━━━━━━━━━━━━━━━━━━━━\u001b[0m \u001b[32m150.8/150.8 MB\u001b[0m \u001b[31m6.6 MB/s\u001b[0m eta \u001b[36m0:00:00\u001b[0m:00:01\u001b[0m00:01\u001b[0m\n",
      "\u001b[?25hDownloading torchvision-0.17.1-cp39-cp39-macosx_10_13_x86_64.whl (1.7 MB)\n",
      "\u001b[2K   \u001b[90m━━━━━━━━━━━━━━━━━━━━━━━━━━━━━━━━━━━━━━━━\u001b[0m \u001b[32m1.7/1.7 MB\u001b[0m \u001b[31m9.8 MB/s\u001b[0m eta \u001b[36m0:00:00\u001b[0m:00:01\u001b[0m00:01\u001b[0m\n",
      "\u001b[?25hDownloading torchaudio-2.2.1-cp39-cp39-macosx_10_13_x86_64.whl (3.4 MB)\n",
      "\u001b[2K   \u001b[90m━━━━━━━━━━━━━━━━━━━━━━━━━━━━━━━━━━━━━━━━\u001b[0m \u001b[32m3.4/3.4 MB\u001b[0m \u001b[31m10.1 MB/s\u001b[0m eta \u001b[36m0:00:00\u001b[0m00:01\u001b[0m00:01\u001b[0m\n",
      "\u001b[?25h\u001b[33mDEPRECATION: pyodbc 4.0.0-unsupported has a non-standard version number. pip 24.0 will enforce this behaviour change. A possible replacement is to upgrade to a newer version of pyodbc or contact the author to suggest that they release a version with a conforming version number. Discussion can be found at https://github.com/pypa/pip/issues/12063\u001b[0m\u001b[33m\n",
      "\u001b[0mInstalling collected packages: torch, torchvision, torchaudio\n",
      "Successfully installed torch-2.2.1 torchaudio-2.2.1 torchvision-0.17.1\n",
      "\u001b[33mWARNING: There was an error checking the latest version of pip.\u001b[0m\u001b[33m\n",
      "\u001b[0mNote: you may need to restart the kernel to use updated packages.\n"
     ]
    }
   ],
   "source": [
    "%pip install torch torchvision torchaudio"
   ]
  },
  {
   "cell_type": "markdown",
   "id": "7f260553",
   "metadata": {
    "id": "7f260553"
   },
   "source": [
    "### 5.2 Preparing and define the learning model\n",
    "Since spatial-temporal taxi trajectories are of time series data in nature, we choose Recurrent Neural Networks (RNN) as the model for embedding learning over taxi trajectories. Specifically, an RNN is a classical deep-learning model that can be trained to process a sequential data (or time-series data) input and produce a specific output sequence as prediction. It is typically done by transforming high-dimensional input time-series data into relatively low-dimensional hidden embebdding layers, and making predictions at the final output layer at each time step."
   ]
  },
  {
   "cell_type": "code",
   "execution_count": null,
   "id": "0ce1f538",
   "metadata": {},
   "outputs": [],
   "source": []
  },
  {
   "cell_type": "code",
   "execution_count": 145,
   "id": "9e2bb854",
   "metadata": {},
   "outputs": [],
   "source": [
    "import torch\n",
    "import torch.nn as nn\n",
    "from torch.utils.data import Dataset, DataLoader\n",
    "from torch.nn.utils.rnn import pad_sequence\n",
    "\n",
    "class TaxiTrajectoryGenerator(nn.Module):\n",
    "    def __init__(self, vocab_size, embedding_dim, hidden_size, num_layers, output_size):\n",
    "        super(TaxiTrajectoryGenerator, self).__init__()\n",
    "        self.hidden_size = hidden_size\n",
    "        self.num_layers = num_layers\n",
    "        self.embedding = nn.Embedding(vocab_size, embedding_dim)\n",
    "        self.lstm = nn.LSTM(embedding_dim, hidden_size, num_layers, batch_first=True)\n",
    "        self.fc = nn.Linear(hidden_size, output_size)\n",
    "\n",
    "    def forward(self, x, lengths):\n",
    "        x = self.embedding(x)\n",
    "        x_packed = nn.utils.rnn.pack_padded_sequence(x, lengths, batch_first=True, enforce_sorted=False)\n",
    "        out_packed, (h_n, c_n) = self.lstm(x_packed)\n",
    "        out, _ = nn.utils.rnn.pad_packed_sequence(out_packed, batch_first=True)\n",
    "        out = self.fc(out)\n",
    "        return out\n"
   ]
  },
  {
   "cell_type": "markdown",
   "id": "t_Zw7JHcULkJ",
   "metadata": {
    "id": "t_Zw7JHcULkJ"
   },
   "source": [
    "### 5.3 Preprocessing trajectory data\n"
   ]
  },
  {
   "cell_type": "code",
   "execution_count": 146,
   "id": "f721e1eb",
   "metadata": {},
   "outputs": [],
   "source": [
    "class TaxiTrajectoryDataset(Dataset):\n",
    "    def __init__(self, sequences):\n",
    "        self.input_sequences = [sequence[:-1] for sequence in sequences]\n",
    "        self.target_sequences = [sequence[1:] for sequence in sequences]\n",
    "\n",
    "    def __len__(self):\n",
    "        return len(self.input_sequences)\n",
    "\n",
    "    def __getitem__(self, idx):\n",
    "        input_seq = self.input_sequences[idx]\n",
    "        target_seq = self.target_sequences[idx]\n",
    "        return torch.tensor(input_seq, dtype=torch.long), torch.tensor(target_seq, dtype=torch.long)\n"
   ]
  },
  {
   "cell_type": "code",
   "execution_count": 151,
   "id": "085e5074",
   "metadata": {},
   "outputs": [],
   "source": [
    "import torch\n",
    "from torch.nn.utils.rnn import pad_sequence\n",
    "\n",
    "import json\n",
    "\n",
    "def load_sequences_from_json(file_path, data_size):\n",
    "    with open(file_path, 'r') as file:\n",
    "        data = json.load(file) \n",
    "    keys = list(data.keys())[:data_size]    \n",
    "    sequences = [data[str(key)] for key in keys]   \n",
    "    sequences = [[int(cell_id) for cell_id in sequence] for sequence in sequences]    \n",
    "    return sequences\n",
    "\n",
    "\n",
    "def prepare_dataset(directory_path, data_size, start=0, end=100000, step=100000, padding_value=0):\n",
    "    file_paths = [f\"{directory_path}/one_hot_vectors_batch_{i}_{i+step}.json\" for i in range(start, end, step)]\n",
    "    # file_paths.append(f\"{directory_path}/one_hot_vectors_batch_1600000_1687544.json\")  # Optionally add the last file if needed\n",
    "    \n",
    "    all_sequences = []\n",
    "    for file_path in file_paths:\n",
    "        sequences = load_sequences_from_json(file_path, data_size)\n",
    "        all_sequences.extend(sequences)\n",
    "    \n",
    "    tensor_sequences = [torch.tensor(sequence) for sequence in all_sequences]\n",
    "    padded_sequences = pad_sequence(tensor_sequences, batch_first=True, padding_value=padding_value)\n",
    "    \n",
    "    \n",
    "    return padded_sequences\n",
    "\n",
    "\n"
   ]
  },
  {
   "cell_type": "code",
   "execution_count": 73,
   "id": "6e32dc8a",
   "metadata": {},
   "outputs": [],
   "source": [
    "directory_path = 'data/trainData/oneHotVectorData'\n",
    "dataset = prepare_dataset(directory_path, 100)"
   ]
  },
  {
   "cell_type": "markdown",
   "id": "a781ee6f",
   "metadata": {
    "id": "a781ee6f"
   },
   "source": [
    "### 5.5 Training the learning model\n",
    "\n",
    "\n"
   ]
  },
  {
   "cell_type": "code",
   "execution_count": 148,
   "id": "ae360d7c",
   "metadata": {},
   "outputs": [],
   "source": [
    "from sklearn.model_selection import KFold\n",
    "\n",
    "\n",
    "def generate_kfold_indices(data, n_splits=3, shuffle=True, random_state=42):\n",
    "    \"\"\"\n",
    "    Generate K-Fold indices for provided data.\n",
    "\n",
    "    Parameters:\n",
    "    - data: The dataset to split. This function does not directly split the data but provides indices for splitting.\n",
    "    - n_splits: The number of folds. Default is 3.\n",
    "    - shuffle: Whether to shuffle the data before splitting into batches. Default is True.\n",
    "    - random_state: Seed used by the random number generator for reproducible output. Default is 42.\n",
    "\n",
    "    Returns:\n",
    "    - A list of tuples where each tuple contains the train and test indices for each fold.\n",
    "    \"\"\"\n",
    "    \n",
    "    # Initialize KFold with the provided parameters\n",
    "    kf = KFold(n_splits=n_splits, shuffle=shuffle, random_state=random_state)\n",
    "    \n",
    "    # Generate and return the fold indices\n",
    "    folds = list(kf.split(data))\n",
    "    return folds\n",
    "\n",
    "\n"
   ]
  },
  {
   "cell_type": "code",
   "execution_count": 75,
   "id": "4a113778",
   "metadata": {},
   "outputs": [],
   "source": [
    "folds = generate_kfold_indices(padded_sequences, n_splits=3, shuffle=True, random_state=42)\n"
   ]
  },
  {
   "cell_type": "code",
   "execution_count": 170,
   "id": "e134b966",
   "metadata": {},
   "outputs": [],
   "source": [
    "import torch\n",
    "from torch.nn.utils.rnn import pad_sequence\n",
    "from torch.utils.data import DataLoader\n",
    "import torch.nn as nn\n",
    "import torch.optim as optim\n",
    "from sklearn.model_selection import KFold\n",
    "\n",
    "import os\n",
    "\n",
    "def cross_validate_model(dataset, folds, num_epochs=5, batch_size=8, lr=0.001, save_dir='trajectoryModels/testtestwaittodelete',padding_value = 0):\n",
    "    \"\"\"\n",
    "    Trains and validates a TaxiTrajectoryGenerator model using K-Fold cross-validation.\n",
    "\n",
    "    Parameters:\n",
    "    - dataset: A list of sequences (data points) to be used for training and validation.\n",
    "    - folds: A list of tuples containing train and validation indices for each fold.\n",
    "    - num_epochs: Number of epochs to train for each fold. Default is 5.\n",
    "    - batch_size: Batch size for training and validation. Default is 8.\n",
    "    - lr: Learning rate for the optimizer. Default is 0.001.\n",
    "    - save_dir: Directory to save the trained models. Default is 'saved_models'.\n",
    "\n",
    "    Returns:\n",
    "    - A tuple of lists containing training losses, validation losses, and accuracies for each fold.\n",
    "    \"\"\"\n",
    "    all_folds_train_loss = []\n",
    "    all_folds_val_loss = []\n",
    "    all_folds_accuracy = []\n",
    "\n",
    "    # Model specifications\n",
    "    vocab_size = 223 * 168\n",
    "    embedding_dim = 32\n",
    "    output_size = vocab_size\n",
    "    hidden_size = 32\n",
    "    num_layers = 2\n",
    "\n",
    "    if not os.path.exists(save_dir):\n",
    "        os.makedirs(save_dir)\n",
    "\n",
    "    for fold, (train_ids, test_ids) in enumerate(folds):\n",
    "        # Initialize fold-specific lists\n",
    "        fold_train_loss = []\n",
    "        fold_val_loss = []\n",
    "        fold_accuracy = []\n",
    "\n",
    "        # Split the sequences into training and validation sets\n",
    "        train_sequences = [dataset[i] for i in train_ids]\n",
    "        val_sequences = [dataset[i] for i in test_ids]\n",
    "\n",
    "        # Create the datasets and DataLoaders\n",
    "        train_dataset = TaxiTrajectoryDataset(train_sequences)\n",
    "        val_dataset = TaxiTrajectoryDataset(val_sequences)\n",
    "        train_loader = DataLoader(train_dataset, batch_size=batch_size, shuffle=True)\n",
    "        val_loader = DataLoader(val_dataset, batch_size=batch_size, shuffle=False)\n",
    "\n",
    "        # Initialize the model, loss function, and optimizer\n",
    "        model = TaxiTrajectoryGenerator(vocab_size, embedding_dim, hidden_size, num_layers, output_size)\n",
    "        if torch.cuda.is_available():\n",
    "            model.cuda()\n",
    "#         loss_function = nn.CrossEntropyLoss()  \n",
    "        loss_function = nn.CrossEntropyLoss(ignore_index=padding_value)\n",
    "        optimizer = optim.Adam(model.parameters(), lr=lr)\n",
    "\n",
    "        # Train the model on the current fold\n",
    "        for epoch in range(num_epochs):\n",
    "            model.train()\n",
    "            train_loss = 0\n",
    "            correct_predictions = 0\n",
    "            total_predictions = 0\n",
    "\n",
    "            for sequences, targets in train_loader:\n",
    "                if torch.cuda.is_available():\n",
    "                    sequences, targets = sequences.cuda(), targets.cuda()\n",
    "                optimizer.zero_grad()\n",
    "                lengths = [len(sequence) for sequence in sequences]  # Assuming your model takes sequence lengths\n",
    "                sequence_pred = model(sequences, lengths)  # Adjust according to your model's method signature\n",
    "                loss = loss_function(sequence_pred.transpose(1, 2), targets)  # Adjust if needed\n",
    "                loss.backward()\n",
    "                optimizer.step()\n",
    "                train_loss += loss.item()\n",
    "\n",
    "            model.eval()\n",
    "            val_loss = 0\n",
    "            with torch.no_grad():\n",
    "                for sequences, targets in val_loader:\n",
    "                    if torch.cuda.is_available():\n",
    "                        sequences, targets = sequences.cuda(), targets.cuda()\n",
    "                    lengths = [len(sequence) for sequence in sequences]\n",
    "                    \n",
    "                    sequence_pred = model(sequences, lengths)\n",
    "                    loss = loss_function(sequence_pred.transpose(1, 2), targets)\n",
    "                    val_loss += loss.item()\n",
    "                    _, predicted = torch.max(sequence_pred, 2)\n",
    "                    # Create a mask for non-padding values\n",
    "                    non_padding_mask = targets != padding_value\n",
    "\n",
    "                    # Count correct predictions where the target is not a padding value\n",
    "                    correct_predictions += ((predicted == targets) & non_padding_mask).sum().item()\n",
    "\n",
    "                    # Update total predictions to exclude padding\n",
    "                    total_predictions += non_padding_mask.sum().item()\n",
    "#                     print('correct_predictions: ',correct_predictions,'; total_predictions: ',total_predictions)\n",
    "                   \n",
    "\n",
    "\n",
    "            accuracy = correct_predictions / total_predictions\n",
    "            \n",
    "            # Print fold, epoch, and validation loss\n",
    "            print(f'Fold {fold}, Epoch {epoch}, Train Loss: {train_loss / len(train_loader)}, Val Loss: {val_loss / len(val_loader)}, Accuracy: {accuracy}')\n",
    "    \n",
    "           \n",
    "            fold_train_loss.append(train_loss / len(train_loader))\n",
    "            fold_val_loss.append(val_loss / len(val_loader))\n",
    "            fold_accuracy.append(accuracy)\n",
    "\n",
    "        all_folds_train_loss.append(fold_train_loss)\n",
    "        all_folds_val_loss.append(fold_val_loss)\n",
    "        all_folds_accuracy.append(fold_accuracy)\n",
    "\n",
    "        # Save the model\n",
    "        model_save_path = os.path.join(save_dir, f'trajectory_model_fold_{fold}.pt')\n",
    "        torch.save(model.state_dict(), model_save_path)\n",
    "\n",
    "    return all_folds_train_loss, all_folds_val_loss, all_folds_accuracy\n",
    "\n",
    "\n",
    "# def cross_validate_model(dataset, folds, num_epochs=5, batch_size=8, lr=0.001):\n",
    "#     \"\"\"\n",
    "#     Trains and validates a TaxiTrajectoryGenerator model using K-Fold cross-validation.\n",
    "\n",
    "#     Parameters:\n",
    "#     - dataset: A list of sequences (data points) to be used for training and validation.\n",
    "#     - folds: A list of tuples containing train and validation indices for each fold.\n",
    "#     - num_epochs: Number of epochs to train for each fold. Default is 5.\n",
    "#     - batch_size: Batch size for training and validation. Default is 8.\n",
    "#     - lr: Learning rate for the optimizer. Default is 0.001.\n",
    "\n",
    "#     Returns:\n",
    "#     - A tuple of lists containing training losses, validation losses, and accuracies for each fold.\n",
    "#     \"\"\"\n",
    "#     all_folds_train_loss = []\n",
    "#     all_folds_val_loss = []\n",
    "#     all_folds_accuracy = []\n",
    "\n",
    "#     # Model specifications\n",
    "#     vocab_size = 223 * 168\n",
    "#     embedding_dim = 128\n",
    "#     output_size = vocab_size\n",
    "#     hidden_size = 128\n",
    "#     num_layers = 2\n",
    "\n",
    "#     for fold, (train_ids, test_ids) in enumerate(folds):\n",
    "#         # Initialize fold-specific lists\n",
    "#         fold_train_loss = []\n",
    "#         fold_val_loss = []\n",
    "#         fold_accuracy = []\n",
    "\n",
    "#         # Split the sequences into training and validation sets\n",
    "#         train_sequences = [dataset[i] for i in train_ids]\n",
    "#         val_sequences = [dataset[i] for i in test_ids]\n",
    "\n",
    "#         # Create the datasets and DataLoaders\n",
    "#         train_dataset = TaxiTrajectoryDataset(train_sequences)\n",
    "#         val_dataset = TaxiTrajectoryDataset(val_sequences)\n",
    "#         train_loader = DataLoader(train_dataset, batch_size=batch_size, shuffle=True)\n",
    "#         val_loader = DataLoader(val_dataset, batch_size=batch_size, shuffle=False)\n",
    "\n",
    "#         # Initialize the model, loss function, and optimizer\n",
    "#         model = TaxiTrajectoryGenerator(vocab_size, embedding_dim, hidden_size, num_layers, output_size)\n",
    "#         loss_function = nn.CrossEntropyLoss()  \n",
    "#         optimizer = optim.Adam(model.parameters(), lr=lr)\n",
    "\n",
    "#         # Train the model on the current fold\n",
    "#         for epoch in range(num_epochs):\n",
    "#             model.train()\n",
    "#             train_loss = 0\n",
    "#             correct_predictions = 0\n",
    "#             total_predictions = 0\n",
    "\n",
    "#             for sequences, targets in train_loader:\n",
    "#                 optimizer.zero_grad()\n",
    "#                 lengths = [len(sequence) for sequence in sequences]  # Assuming your model takes sequence lengths\n",
    "#                 sequence_pred = model(sequences, lengths)  # Adjust according to your model's method signature\n",
    "#                 loss = loss_function(sequence_pred.transpose(1, 2), targets)  # Adjust if needed\n",
    "#                 loss.backward()\n",
    "#                 optimizer.step()\n",
    "#                 train_loss += loss.item()\n",
    "\n",
    "#             model.eval()\n",
    "#             val_loss = 0\n",
    "#             with torch.no_grad():\n",
    "#                 for sequences, targets in val_loader:\n",
    "#                     lengths = [len(sequence) for sequence in sequences]\n",
    "#                     sequence_pred = model(sequences, lengths)\n",
    "#                     loss = loss_function(sequence_pred.transpose(1, 2), targets)\n",
    "#                     val_loss += loss.item()\n",
    "#                     _, predicted = torch.max(sequence_pred, 2)\n",
    "#                     correct_predictions += (predicted == targets).sum().item()\n",
    "#                     total_predictions += targets.nelement()\n",
    "\n",
    "#             accuracy = correct_predictions / total_predictions\n",
    "            \n",
    "#             # Print fold, epoch, and validation loss\n",
    "#             print(f'Fold {fold}, Epoch {epoch}, Train Loss: {train_loss / len(train_loader)}, Val Loss: {val_loss / len(val_loader)}, Accuracy: {accuracy}')\n",
    "    \n",
    "#             fold_train_loss.append(train_loss / len(train_loader))\n",
    "#             fold_val_loss.append(val_loss / len(val_loader))\n",
    "#             fold_accuracy.append(accuracy)\n",
    "\n",
    "#         all_folds_train_loss.append(fold_train_loss)\n",
    "#         all_folds_val_loss.append(fold_val_loss)\n",
    "#         all_folds_accuracy.append(fold_accuracy)\n",
    "\n",
    "#     return all_folds_train_loss, all_folds_val_loss, all_folds_accuracy\n",
    "\n"
   ]
  },
  {
   "cell_type": "code",
   "execution_count": 79,
   "id": "2a01c67c",
   "metadata": {},
   "outputs": [
    {
     "name": "stderr",
     "output_type": "stream",
     "text": [
      "/var/folders/k6/532x89vs5pb6w5twy9by4tl80000gn/T/ipykernel_43501/1362481826.py:12: UserWarning: To copy construct from a tensor, it is recommended to use sourceTensor.clone().detach() or sourceTensor.clone().detach().requires_grad_(True), rather than torch.tensor(sourceTensor).\n",
      "  return torch.tensor(input_seq, dtype=torch.long), torch.tensor(target_seq, dtype=torch.long)\n"
     ]
    },
    {
     "name": "stdout",
     "output_type": "stream",
     "text": [
      "Fold 0, Epoch 0, Train Loss: 9.449348343743218, Val Loss: 7.610257625579834, Accuracy: 0.7269199346405228\n",
      "Fold 0, Epoch 1, Train Loss: 5.975944704479641, Val Loss: 4.49933934211731, Accuracy: 0.7285539215686274\n",
      "Fold 0, Epoch 2, Train Loss: 3.2474461131625705, Val Loss: 2.987789273262024, Accuracy: 0.7287581699346405\n",
      "Fold 0, Epoch 3, Train Loss: 2.41401199499766, Val Loss: 2.896636176109314, Accuracy: 0.7287581699346405\n",
      "Fold 0, Epoch 4, Train Loss: 2.1273718410068088, Val Loss: 2.902197074890137, Accuracy: 0.7287581699346405\n",
      "Fold 1, Epoch 0, Train Loss: 9.402845011817085, Val Loss: 7.338572025299072, Accuracy: 0.7699915824915825\n",
      "Fold 1, Epoch 1, Train Loss: 6.233848465813531, Val Loss: 4.010483169555664, Accuracy: 0.7727272727272727\n",
      "Fold 1, Epoch 2, Train Loss: 3.5093127621544733, Val Loss: 2.3735161781311036, Accuracy: 0.7729377104377104\n",
      "Fold 1, Epoch 3, Train Loss: 2.526863614718119, Val Loss: 2.2107461214065554, Accuracy: 0.7729377104377104\n",
      "Fold 1, Epoch 4, Train Loss: 2.401533391740587, Val Loss: 2.1943636775016784, Accuracy: 0.7729377104377104\n",
      "Fold 2, Epoch 0, Train Loss: 9.411964840359158, Val Loss: 7.57770004272461, Accuracy: 0.7666245791245792\n",
      "Fold 2, Epoch 1, Train Loss: 6.062133550643921, Val Loss: 4.210171413421631, Accuracy: 0.7687289562289562\n",
      "Fold 2, Epoch 2, Train Loss: 3.3411157661014133, Val Loss: 2.736609125137329, Accuracy: 0.7687289562289562\n",
      "Fold 2, Epoch 3, Train Loss: 2.5137728452682495, Val Loss: 2.6285420417785645, Accuracy: 0.7687289562289562\n",
      "Fold 2, Epoch 4, Train Loss: 2.353581574228075, Val Loss: 2.5887102603912355, Accuracy: 0.7687289562289562\n"
     ]
    }
   ],
   "source": [
    "all_train_loss, all_val_loss, all_accuracy = cross_validate_model(padded_sequences, folds)\n"
   ]
  },
  {
   "cell_type": "code",
   "execution_count": 115,
   "id": "e7580205",
   "metadata": {},
   "outputs": [],
   "source": [
    "def plot_training_validation_loss_and_accuracy(avg_train_loss, avg_val_loss, avg_accuracy):\n",
    "    \"\"\"\n",
    "    Plots the average training and validation loss, and the average accuracy over epochs.\n",
    "\n",
    "    Parameters:\n",
    "    - avg_train_loss: A list of average training losses over epochs.\n",
    "    - avg_val_loss: A list of average validation losses over epochs.\n",
    "    - avg_accuracy: A list of average accuracies over epochs.\n",
    "    \"\"\"\n",
    "    plt.figure(figsize=(12, 5))\n",
    "    \n",
    "    # Plotting the average training and validation loss\n",
    "    plt.subplot(1, 2, 1)\n",
    "    plt.plot(avg_train_loss, label='Average Training Loss')\n",
    "    plt.plot(avg_val_loss, label='Average Validation Loss')\n",
    "    plt.xlabel('Epoch')\n",
    "    plt.ylabel('Loss')\n",
    "    plt.title('Training & Validation Loss Over Epochs')\n",
    "    plt.legend()\n",
    "    \n",
    "    # Plotting the average accuracy\n",
    "    plt.subplot(1, 2, 2)\n",
    "    plt.plot(avg_accuracy, label='Average Accuracy', color='green')\n",
    "    plt.xlabel('Epoch')\n",
    "    plt.ylabel('Accuracy')\n",
    "    plt.title('Accuracy Over Epochs')\n",
    "    plt.legend()\n",
    "    \n",
    "    plt.tight_layout()\n",
    "    plt.show()\n",
    "\n",
    "\n"
   ]
  },
  {
   "cell_type": "code",
   "execution_count": 81,
   "id": "38927cce",
   "metadata": {},
   "outputs": [
    {
     "data": {
      "image/png": "[encoded data removed]",
      "text/plain": [
       "<Figure size 864x360 with 2 Axes>"
      ]
     },
     "metadata": {
      "needs_background": "light"
     },
     "output_type": "display_data"
    }
   ],
   "source": [
    "plot_training_validation_loss_and_accuracy(avg_train_loss, avg_val_loss, avg_accuracy)"
   ]
  },
  {
   "cell_type": "code",
   "execution_count": 166,
   "id": "726935da",
   "metadata": {},
   "outputs": [
    {
     "name": "stderr",
     "output_type": "stream",
     "text": [
      "/var/folders/k6/532x89vs5pb6w5twy9by4tl80000gn/T/ipykernel_43501/1362481826.py:12: UserWarning: To copy construct from a tensor, it is recommended to use sourceTensor.clone().detach() or sourceTensor.clone().detach().requires_grad_(True), rather than torch.tensor(sourceTensor).\n",
      "  return torch.tensor(input_seq, dtype=torch.long), torch.tensor(target_seq, dtype=torch.long)\n"
     ]
    },
    {
     "ename": "KeyboardInterrupt",
     "evalue": "",
     "output_type": "error",
     "traceback": [
      "\u001b[0;31m---------------------------------------------------------------------------\u001b[0m",
      "\u001b[0;31mKeyboardInterrupt\u001b[0m                         Traceback (most recent call last)",
      "\u001b[0;32m/var/folders/k6/532x89vs5pb6w5twy9by4tl80000gn/T/ipykernel_43501/1095158810.py\u001b[0m in \u001b[0;36m<module>\u001b[0;34m\u001b[0m\n\u001b[1;32m      2\u001b[0m \u001b[0mdataset\u001b[0m \u001b[0;34m=\u001b[0m \u001b[0mprepare_dataset\u001b[0m\u001b[0;34m(\u001b[0m\u001b[0mdirectory_path\u001b[0m\u001b[0;34m,\u001b[0m \u001b[0;36m1000\u001b[0m\u001b[0;34m)\u001b[0m\u001b[0;34m\u001b[0m\u001b[0;34m\u001b[0m\u001b[0m\n\u001b[1;32m      3\u001b[0m \u001b[0mfolds\u001b[0m \u001b[0;34m=\u001b[0m \u001b[0mgenerate_kfold_indices\u001b[0m\u001b[0;34m(\u001b[0m\u001b[0mdataset\u001b[0m\u001b[0;34m,\u001b[0m \u001b[0mn_splits\u001b[0m\u001b[0;34m=\u001b[0m\u001b[0;36m3\u001b[0m\u001b[0;34m,\u001b[0m \u001b[0mshuffle\u001b[0m\u001b[0;34m=\u001b[0m\u001b[0;32mTrue\u001b[0m\u001b[0;34m,\u001b[0m \u001b[0mrandom_state\u001b[0m\u001b[0;34m=\u001b[0m\u001b[0;36m42\u001b[0m\u001b[0;34m)\u001b[0m\u001b[0;34m\u001b[0m\u001b[0;34m\u001b[0m\u001b[0m\n\u001b[0;32m----> 4\u001b[0;31m \u001b[0mall_train_loss\u001b[0m\u001b[0;34m,\u001b[0m \u001b[0mall_val_loss\u001b[0m\u001b[0;34m,\u001b[0m \u001b[0mall_accuracy\u001b[0m \u001b[0;34m=\u001b[0m \u001b[0mcross_validate_model\u001b[0m\u001b[0;34m(\u001b[0m\u001b[0mdataset\u001b[0m\u001b[0;34m,\u001b[0m \u001b[0mfolds\u001b[0m\u001b[0;34m)\u001b[0m\u001b[0;34m\u001b[0m\u001b[0;34m\u001b[0m\u001b[0m\n\u001b[0m",
      "\u001b[0;32m/var/folders/k6/532x89vs5pb6w5twy9by4tl80000gn/T/ipykernel_43501/4164892917.py\u001b[0m in \u001b[0;36mcross_validate_model\u001b[0;34m(dataset, folds, num_epochs, batch_size, lr, save_dir, padding_value)\u001b[0m\n\u001b[1;32m     74\u001b[0m                 \u001b[0mlengths\u001b[0m \u001b[0;34m=\u001b[0m \u001b[0;34m[\u001b[0m\u001b[0mlen\u001b[0m\u001b[0;34m(\u001b[0m\u001b[0msequence\u001b[0m\u001b[0;34m)\u001b[0m \u001b[0;32mfor\u001b[0m \u001b[0msequence\u001b[0m \u001b[0;32min\u001b[0m \u001b[0msequences\u001b[0m\u001b[0;34m]\u001b[0m  \u001b[0;31m# Assuming your model takes sequence lengths\u001b[0m\u001b[0;34m\u001b[0m\u001b[0;34m\u001b[0m\u001b[0m\n\u001b[1;32m     75\u001b[0m                 \u001b[0msequence_pred\u001b[0m \u001b[0;34m=\u001b[0m \u001b[0mmodel\u001b[0m\u001b[0;34m(\u001b[0m\u001b[0msequences\u001b[0m\u001b[0;34m,\u001b[0m \u001b[0mlengths\u001b[0m\u001b[0;34m)\u001b[0m  \u001b[0;31m# Adjust according to your model's method signature\u001b[0m\u001b[0;34m\u001b[0m\u001b[0;34m\u001b[0m\u001b[0m\n\u001b[0;32m---> 76\u001b[0;31m                 \u001b[0mloss\u001b[0m \u001b[0;34m=\u001b[0m \u001b[0mloss_function\u001b[0m\u001b[0;34m(\u001b[0m\u001b[0msequence_pred\u001b[0m\u001b[0;34m.\u001b[0m\u001b[0mtranspose\u001b[0m\u001b[0;34m(\u001b[0m\u001b[0;36m1\u001b[0m\u001b[0;34m,\u001b[0m \u001b[0;36m2\u001b[0m\u001b[0;34m)\u001b[0m\u001b[0;34m,\u001b[0m \u001b[0mtargets\u001b[0m\u001b[0;34m)\u001b[0m  \u001b[0;31m# Adjust if needed\u001b[0m\u001b[0;34m\u001b[0m\u001b[0;34m\u001b[0m\u001b[0m\n\u001b[0m\u001b[1;32m     77\u001b[0m                 \u001b[0mloss\u001b[0m\u001b[0;34m.\u001b[0m\u001b[0mbackward\u001b[0m\u001b[0;34m(\u001b[0m\u001b[0;34m)\u001b[0m\u001b[0;34m\u001b[0m\u001b[0;34m\u001b[0m\u001b[0m\n\u001b[1;32m     78\u001b[0m                 \u001b[0moptimizer\u001b[0m\u001b[0;34m.\u001b[0m\u001b[0mstep\u001b[0m\u001b[0;34m(\u001b[0m\u001b[0;34m)\u001b[0m\u001b[0;34m\u001b[0m\u001b[0;34m\u001b[0m\u001b[0m\n",
      "\u001b[0;32m~/opt/anaconda3/lib/python3.9/site-packages/torch/nn/modules/module.py\u001b[0m in \u001b[0;36m_wrapped_call_impl\u001b[0;34m(self, *args, **kwargs)\u001b[0m\n\u001b[1;32m   1509\u001b[0m             \u001b[0;32mreturn\u001b[0m \u001b[0mself\u001b[0m\u001b[0;34m.\u001b[0m\u001b[0m_compiled_call_impl\u001b[0m\u001b[0;34m(\u001b[0m\u001b[0;34m*\u001b[0m\u001b[0margs\u001b[0m\u001b[0;34m,\u001b[0m \u001b[0;34m**\u001b[0m\u001b[0mkwargs\u001b[0m\u001b[0;34m)\u001b[0m  \u001b[0;31m# type: ignore[misc]\u001b[0m\u001b[0;34m\u001b[0m\u001b[0;34m\u001b[0m\u001b[0m\n\u001b[1;32m   1510\u001b[0m         \u001b[0;32melse\u001b[0m\u001b[0;34m:\u001b[0m\u001b[0;34m\u001b[0m\u001b[0;34m\u001b[0m\u001b[0m\n\u001b[0;32m-> 1511\u001b[0;31m             \u001b[0;32mreturn\u001b[0m \u001b[0mself\u001b[0m\u001b[0;34m.\u001b[0m\u001b[0m_call_impl\u001b[0m\u001b[0;34m(\u001b[0m\u001b[0;34m*\u001b[0m\u001b[0margs\u001b[0m\u001b[0;34m,\u001b[0m \u001b[0;34m**\u001b[0m\u001b[0mkwargs\u001b[0m\u001b[0;34m)\u001b[0m\u001b[0;34m\u001b[0m\u001b[0;34m\u001b[0m\u001b[0m\n\u001b[0m\u001b[1;32m   1512\u001b[0m \u001b[0;34m\u001b[0m\u001b[0m\n\u001b[1;32m   1513\u001b[0m     \u001b[0;32mdef\u001b[0m \u001b[0m_call_impl\u001b[0m\u001b[0;34m(\u001b[0m\u001b[0mself\u001b[0m\u001b[0;34m,\u001b[0m \u001b[0;34m*\u001b[0m\u001b[0margs\u001b[0m\u001b[0;34m,\u001b[0m \u001b[0;34m**\u001b[0m\u001b[0mkwargs\u001b[0m\u001b[0;34m)\u001b[0m\u001b[0;34m:\u001b[0m\u001b[0;34m\u001b[0m\u001b[0;34m\u001b[0m\u001b[0m\n",
      "\u001b[0;32m~/opt/anaconda3/lib/python3.9/site-packages/torch/nn/modules/module.py\u001b[0m in \u001b[0;36m_call_impl\u001b[0;34m(self, *args, **kwargs)\u001b[0m\n\u001b[1;32m   1518\u001b[0m                 \u001b[0;32mor\u001b[0m \u001b[0m_global_backward_pre_hooks\u001b[0m \u001b[0;32mor\u001b[0m \u001b[0m_global_backward_hooks\u001b[0m\u001b[0;34m\u001b[0m\u001b[0;34m\u001b[0m\u001b[0m\n\u001b[1;32m   1519\u001b[0m                 or _global_forward_hooks or _global_forward_pre_hooks):\n\u001b[0;32m-> 1520\u001b[0;31m             \u001b[0;32mreturn\u001b[0m \u001b[0mforward_call\u001b[0m\u001b[0;34m(\u001b[0m\u001b[0;34m*\u001b[0m\u001b[0margs\u001b[0m\u001b[0;34m,\u001b[0m \u001b[0;34m**\u001b[0m\u001b[0mkwargs\u001b[0m\u001b[0;34m)\u001b[0m\u001b[0;34m\u001b[0m\u001b[0;34m\u001b[0m\u001b[0m\n\u001b[0m\u001b[1;32m   1521\u001b[0m \u001b[0;34m\u001b[0m\u001b[0m\n\u001b[1;32m   1522\u001b[0m         \u001b[0;32mtry\u001b[0m\u001b[0;34m:\u001b[0m\u001b[0;34m\u001b[0m\u001b[0;34m\u001b[0m\u001b[0m\n",
      "\u001b[0;32m~/opt/anaconda3/lib/python3.9/site-packages/torch/nn/modules/loss.py\u001b[0m in \u001b[0;36mforward\u001b[0;34m(self, input, target)\u001b[0m\n\u001b[1;32m   1177\u001b[0m \u001b[0;34m\u001b[0m\u001b[0m\n\u001b[1;32m   1178\u001b[0m     \u001b[0;32mdef\u001b[0m \u001b[0mforward\u001b[0m\u001b[0;34m(\u001b[0m\u001b[0mself\u001b[0m\u001b[0;34m,\u001b[0m \u001b[0minput\u001b[0m\u001b[0;34m:\u001b[0m \u001b[0mTensor\u001b[0m\u001b[0;34m,\u001b[0m \u001b[0mtarget\u001b[0m\u001b[0;34m:\u001b[0m \u001b[0mTensor\u001b[0m\u001b[0;34m)\u001b[0m \u001b[0;34m->\u001b[0m \u001b[0mTensor\u001b[0m\u001b[0;34m:\u001b[0m\u001b[0;34m\u001b[0m\u001b[0;34m\u001b[0m\u001b[0m\n\u001b[0;32m-> 1179\u001b[0;31m         return F.cross_entropy(input, target, weight=self.weight,\n\u001b[0m\u001b[1;32m   1180\u001b[0m                                \u001b[0mignore_index\u001b[0m\u001b[0;34m=\u001b[0m\u001b[0mself\u001b[0m\u001b[0;34m.\u001b[0m\u001b[0mignore_index\u001b[0m\u001b[0;34m,\u001b[0m \u001b[0mreduction\u001b[0m\u001b[0;34m=\u001b[0m\u001b[0mself\u001b[0m\u001b[0;34m.\u001b[0m\u001b[0mreduction\u001b[0m\u001b[0;34m,\u001b[0m\u001b[0;34m\u001b[0m\u001b[0;34m\u001b[0m\u001b[0m\n\u001b[1;32m   1181\u001b[0m                                label_smoothing=self.label_smoothing)\n",
      "\u001b[0;32m~/opt/anaconda3/lib/python3.9/site-packages/torch/nn/functional.py\u001b[0m in \u001b[0;36mcross_entropy\u001b[0;34m(input, target, weight, size_average, ignore_index, reduce, reduction, label_smoothing)\u001b[0m\n\u001b[1;32m   3057\u001b[0m     \u001b[0;32mif\u001b[0m \u001b[0msize_average\u001b[0m \u001b[0;32mis\u001b[0m \u001b[0;32mnot\u001b[0m \u001b[0;32mNone\u001b[0m \u001b[0;32mor\u001b[0m \u001b[0mreduce\u001b[0m \u001b[0;32mis\u001b[0m \u001b[0;32mnot\u001b[0m \u001b[0;32mNone\u001b[0m\u001b[0;34m:\u001b[0m\u001b[0;34m\u001b[0m\u001b[0;34m\u001b[0m\u001b[0m\n\u001b[1;32m   3058\u001b[0m         \u001b[0mreduction\u001b[0m \u001b[0;34m=\u001b[0m \u001b[0m_Reduction\u001b[0m\u001b[0;34m.\u001b[0m\u001b[0mlegacy_get_string\u001b[0m\u001b[0;34m(\u001b[0m\u001b[0msize_average\u001b[0m\u001b[0;34m,\u001b[0m \u001b[0mreduce\u001b[0m\u001b[0;34m)\u001b[0m\u001b[0;34m\u001b[0m\u001b[0;34m\u001b[0m\u001b[0m\n\u001b[0;32m-> 3059\u001b[0;31m     \u001b[0;32mreturn\u001b[0m \u001b[0mtorch\u001b[0m\u001b[0;34m.\u001b[0m\u001b[0m_C\u001b[0m\u001b[0;34m.\u001b[0m\u001b[0m_nn\u001b[0m\u001b[0;34m.\u001b[0m\u001b[0mcross_entropy_loss\u001b[0m\u001b[0;34m(\u001b[0m\u001b[0minput\u001b[0m\u001b[0;34m,\u001b[0m \u001b[0mtarget\u001b[0m\u001b[0;34m,\u001b[0m \u001b[0mweight\u001b[0m\u001b[0;34m,\u001b[0m \u001b[0m_Reduction\u001b[0m\u001b[0;34m.\u001b[0m\u001b[0mget_enum\u001b[0m\u001b[0;34m(\u001b[0m\u001b[0mreduction\u001b[0m\u001b[0;34m)\u001b[0m\u001b[0;34m,\u001b[0m \u001b[0mignore_index\u001b[0m\u001b[0;34m,\u001b[0m \u001b[0mlabel_smoothing\u001b[0m\u001b[0;34m)\u001b[0m\u001b[0;34m\u001b[0m\u001b[0;34m\u001b[0m\u001b[0m\n\u001b[0m\u001b[1;32m   3060\u001b[0m \u001b[0;34m\u001b[0m\u001b[0m\n\u001b[1;32m   3061\u001b[0m \u001b[0;34m\u001b[0m\u001b[0m\n",
      "\u001b[0;31mKeyboardInterrupt\u001b[0m: "
     ]
    }
   ],
   "source": [
    "directory_path = 'data/trainData/oneHotVectorData'\n",
    "dataset = prepare_dataset(directory_path, 1000)\n",
    "folds = generate_kfold_indices(dataset, n_splits=3, shuffle=True, random_state=42)\n",
    "all_train_loss, all_val_loss, all_accuracy = cross_validate_model(dataset, folds)\n"
   ]
  },
  {
   "cell_type": "code",
   "execution_count": null,
   "id": "7f081b4f",
   "metadata": {},
   "outputs": [],
   "source": [
    "plot_training_validation_loss_and_accuracy(avg_train_loss, avg_val_loss, avg_accuracy)"
   ]
  },
  {
   "cell_type": "code",
   "execution_count": 169,
   "id": "15a8b695",
   "metadata": {},
   "outputs": [
    {
     "name": "stderr",
     "output_type": "stream",
     "text": [
      "/var/folders/k6/532x89vs5pb6w5twy9by4tl80000gn/T/ipykernel_43501/1362481826.py:12: UserWarning: To copy construct from a tensor, it is recommended to use sourceTensor.clone().detach() or sourceTensor.clone().detach().requires_grad_(True), rather than torch.tensor(sourceTensor).\n",
      "  return torch.tensor(input_seq, dtype=torch.long), torch.tensor(target_seq, dtype=torch.long)\n"
     ]
    },
    {
     "name": "stdout",
     "output_type": "stream",
     "text": [
      "Fold 0, Epoch 0, Train Loss: 10.527324464586046, Val Loss: 10.505381202697754, Accuracy: 0.0\n",
      "Fold 0, Epoch 1, Train Loss: 10.453518019782173, Val Loss: 10.466081809997558, Accuracy: 0.0\n",
      "Fold 0, Epoch 2, Train Loss: 10.302229669358995, Val Loss: 10.31632137298584, Accuracy: 0.0\n",
      "Fold 0, Epoch 3, Train Loss: 9.598952187432182, Val Loss: 9.799979782104492, Accuracy: 0.0007530120481927711\n",
      "Fold 0, Epoch 4, Train Loss: 8.466712209913466, Val Loss: 9.482545089721679, Accuracy: 0.0015060240963855422\n",
      "Fold 0, Epoch 5, Train Loss: 7.59634002049764, Val Loss: 9.533462142944336, Accuracy: 0.006024096385542169\n",
      "Fold 0, Epoch 6, Train Loss: 7.160115136040582, Val Loss: 9.694058418273926, Accuracy: 0.0007530120481927711\n",
      "Fold 0, Epoch 7, Train Loss: 6.973118570115831, Val Loss: 9.842063522338867, Accuracy: 0.006024096385542169\n",
      "Fold 0, Epoch 8, Train Loss: 6.9068815973069935, Val Loss: 9.962700462341308, Accuracy: 0.006024096385542169\n",
      "Fold 0, Epoch 9, Train Loss: 6.848419401380751, Val Loss: 10.068535232543946, Accuracy: 0.006024096385542169\n",
      "Fold 0, Epoch 10, Train Loss: 6.7793252733018665, Val Loss: 10.144239044189453, Accuracy: 0.006024096385542169\n",
      "Fold 0, Epoch 11, Train Loss: 6.722338411543104, Val Loss: 10.211751556396484, Accuracy: 0.006024096385542169\n",
      "Fold 0, Epoch 12, Train Loss: 6.751762602064344, Val Loss: 10.280879783630372, Accuracy: 0.006024096385542169\n",
      "Fold 0, Epoch 13, Train Loss: 6.710365401373969, Val Loss: 10.344826316833496, Accuracy: 0.006024096385542169\n",
      "Fold 0, Epoch 14, Train Loss: 6.709284994337294, Val Loss: 10.402259635925294, Accuracy: 0.006024096385542169\n",
      "Fold 0, Epoch 15, Train Loss: 6.628008789486355, Val Loss: 10.463388442993164, Accuracy: 0.006024096385542169\n",
      "Fold 0, Epoch 16, Train Loss: 6.679555310143365, Val Loss: 10.50587215423584, Accuracy: 0.004518072289156626\n",
      "Fold 0, Epoch 17, Train Loss: 6.647863652971056, Val Loss: 10.557324600219726, Accuracy: 0.004518072289156626\n",
      "Fold 0, Epoch 18, Train Loss: 6.6336653497484, Val Loss: 10.605828475952148, Accuracy: 0.004518072289156626\n",
      "Fold 0, Epoch 19, Train Loss: 6.673092736138238, Val Loss: 10.64279556274414, Accuracy: 0.006024096385542169\n"
     ]
    },
    {
     "ename": "KeyboardInterrupt",
     "evalue": "",
     "output_type": "error",
     "traceback": [
      "\u001b[0;31m---------------------------------------------------------------------------\u001b[0m",
      "\u001b[0;31mKeyboardInterrupt\u001b[0m                         Traceback (most recent call last)",
      "\u001b[0;32m/var/folders/k6/532x89vs5pb6w5twy9by4tl80000gn/T/ipykernel_43501/3175068073.py\u001b[0m in \u001b[0;36m<module>\u001b[0;34m\u001b[0m\n\u001b[1;32m      2\u001b[0m \u001b[0mdataset\u001b[0m \u001b[0;34m=\u001b[0m \u001b[0mprepare_dataset\u001b[0m\u001b[0;34m(\u001b[0m\u001b[0mdirectory_path\u001b[0m\u001b[0;34m,\u001b[0m \u001b[0;36m100\u001b[0m\u001b[0;34m)\u001b[0m\u001b[0;34m\u001b[0m\u001b[0;34m\u001b[0m\u001b[0m\n\u001b[1;32m      3\u001b[0m \u001b[0mfolds\u001b[0m \u001b[0;34m=\u001b[0m \u001b[0mgenerate_kfold_indices\u001b[0m\u001b[0;34m(\u001b[0m\u001b[0mdataset\u001b[0m\u001b[0;34m,\u001b[0m \u001b[0mn_splits\u001b[0m\u001b[0;34m=\u001b[0m\u001b[0;36m3\u001b[0m\u001b[0;34m,\u001b[0m \u001b[0mshuffle\u001b[0m\u001b[0;34m=\u001b[0m\u001b[0;32mTrue\u001b[0m\u001b[0;34m,\u001b[0m \u001b[0mrandom_state\u001b[0m\u001b[0;34m=\u001b[0m\u001b[0;36m42\u001b[0m\u001b[0;34m)\u001b[0m\u001b[0;34m\u001b[0m\u001b[0;34m\u001b[0m\u001b[0m\n\u001b[0;32m----> 4\u001b[0;31m \u001b[0mall_train_loss\u001b[0m\u001b[0;34m,\u001b[0m \u001b[0mall_val_loss\u001b[0m\u001b[0;34m,\u001b[0m \u001b[0mall_accuracy\u001b[0m \u001b[0;34m=\u001b[0m \u001b[0mcross_validate_model\u001b[0m\u001b[0;34m(\u001b[0m\u001b[0mdataset\u001b[0m\u001b[0;34m,\u001b[0m \u001b[0mfolds\u001b[0m\u001b[0;34m,\u001b[0m\u001b[0mnum_epochs\u001b[0m\u001b[0;34m=\u001b[0m\u001b[0;36m50\u001b[0m\u001b[0;34m)\u001b[0m\u001b[0;34m\u001b[0m\u001b[0;34m\u001b[0m\u001b[0m\n\u001b[0m",
      "\u001b[0;32m/var/folders/k6/532x89vs5pb6w5twy9by4tl80000gn/T/ipykernel_43501/3787102848.py\u001b[0m in \u001b[0;36mcross_validate_model\u001b[0;34m(dataset, folds, num_epochs, batch_size, lr, save_dir, padding_value)\u001b[0m\n\u001b[1;32m     75\u001b[0m                 \u001b[0msequence_pred\u001b[0m \u001b[0;34m=\u001b[0m \u001b[0mmodel\u001b[0m\u001b[0;34m(\u001b[0m\u001b[0msequences\u001b[0m\u001b[0;34m,\u001b[0m \u001b[0mlengths\u001b[0m\u001b[0;34m)\u001b[0m  \u001b[0;31m# Adjust according to your model's method signature\u001b[0m\u001b[0;34m\u001b[0m\u001b[0;34m\u001b[0m\u001b[0m\n\u001b[1;32m     76\u001b[0m                 \u001b[0mloss\u001b[0m \u001b[0;34m=\u001b[0m \u001b[0mloss_function\u001b[0m\u001b[0;34m(\u001b[0m\u001b[0msequence_pred\u001b[0m\u001b[0;34m.\u001b[0m\u001b[0mtranspose\u001b[0m\u001b[0;34m(\u001b[0m\u001b[0;36m1\u001b[0m\u001b[0;34m,\u001b[0m \u001b[0;36m2\u001b[0m\u001b[0;34m)\u001b[0m\u001b[0;34m,\u001b[0m \u001b[0mtargets\u001b[0m\u001b[0;34m)\u001b[0m  \u001b[0;31m# Adjust if needed\u001b[0m\u001b[0;34m\u001b[0m\u001b[0;34m\u001b[0m\u001b[0m\n\u001b[0;32m---> 77\u001b[0;31m                 \u001b[0mloss\u001b[0m\u001b[0;34m.\u001b[0m\u001b[0mbackward\u001b[0m\u001b[0;34m(\u001b[0m\u001b[0;34m)\u001b[0m\u001b[0;34m\u001b[0m\u001b[0;34m\u001b[0m\u001b[0m\n\u001b[0m\u001b[1;32m     78\u001b[0m                 \u001b[0moptimizer\u001b[0m\u001b[0;34m.\u001b[0m\u001b[0mstep\u001b[0m\u001b[0;34m(\u001b[0m\u001b[0;34m)\u001b[0m\u001b[0;34m\u001b[0m\u001b[0;34m\u001b[0m\u001b[0m\n\u001b[1;32m     79\u001b[0m                 \u001b[0mtrain_loss\u001b[0m \u001b[0;34m+=\u001b[0m \u001b[0mloss\u001b[0m\u001b[0;34m.\u001b[0m\u001b[0mitem\u001b[0m\u001b[0;34m(\u001b[0m\u001b[0;34m)\u001b[0m\u001b[0;34m\u001b[0m\u001b[0;34m\u001b[0m\u001b[0m\n",
      "\u001b[0;32m~/opt/anaconda3/lib/python3.9/site-packages/torch/_tensor.py\u001b[0m in \u001b[0;36mbackward\u001b[0;34m(self, gradient, retain_graph, create_graph, inputs)\u001b[0m\n\u001b[1;32m    520\u001b[0m                 \u001b[0minputs\u001b[0m\u001b[0;34m=\u001b[0m\u001b[0minputs\u001b[0m\u001b[0;34m,\u001b[0m\u001b[0;34m\u001b[0m\u001b[0;34m\u001b[0m\u001b[0m\n\u001b[1;32m    521\u001b[0m             )\n\u001b[0;32m--> 522\u001b[0;31m         torch.autograd.backward(\n\u001b[0m\u001b[1;32m    523\u001b[0m             \u001b[0mself\u001b[0m\u001b[0;34m,\u001b[0m \u001b[0mgradient\u001b[0m\u001b[0;34m,\u001b[0m \u001b[0mretain_graph\u001b[0m\u001b[0;34m,\u001b[0m \u001b[0mcreate_graph\u001b[0m\u001b[0;34m,\u001b[0m \u001b[0minputs\u001b[0m\u001b[0;34m=\u001b[0m\u001b[0minputs\u001b[0m\u001b[0;34m\u001b[0m\u001b[0;34m\u001b[0m\u001b[0m\n\u001b[1;32m    524\u001b[0m         )\n",
      "\u001b[0;32m~/opt/anaconda3/lib/python3.9/site-packages/torch/autograd/__init__.py\u001b[0m in \u001b[0;36mbackward\u001b[0;34m(tensors, grad_tensors, retain_graph, create_graph, grad_variables, inputs)\u001b[0m\n\u001b[1;32m    264\u001b[0m     \u001b[0;31m# some Python versions print out the first line of a multi-line function\u001b[0m\u001b[0;34m\u001b[0m\u001b[0;34m\u001b[0m\u001b[0m\n\u001b[1;32m    265\u001b[0m     \u001b[0;31m# calls in the traceback and some print out the last line\u001b[0m\u001b[0;34m\u001b[0m\u001b[0;34m\u001b[0m\u001b[0m\n\u001b[0;32m--> 266\u001b[0;31m     Variable._execution_engine.run_backward(  # Calls into the C++ engine to run the backward pass\n\u001b[0m\u001b[1;32m    267\u001b[0m         \u001b[0mtensors\u001b[0m\u001b[0;34m,\u001b[0m\u001b[0;34m\u001b[0m\u001b[0;34m\u001b[0m\u001b[0m\n\u001b[1;32m    268\u001b[0m         \u001b[0mgrad_tensors_\u001b[0m\u001b[0;34m,\u001b[0m\u001b[0;34m\u001b[0m\u001b[0;34m\u001b[0m\u001b[0m\n",
      "\u001b[0;31mKeyboardInterrupt\u001b[0m: "
     ]
    }
   ],
   "source": [
    "directory_path = 'data/trainData/oneHotVectorData'\n",
    "dataset = prepare_dataset(directory_path, 100)\n",
    "folds = generate_kfold_indices(dataset, n_splits=3, shuffle=True, random_state=42)\n",
    "all_train_loss, all_val_loss, all_accuracy = cross_validate_model(dataset, folds,num_epochs=50)\n"
   ]
  },
  {
   "cell_type": "code",
   "execution_count": 171,
   "id": "b2463d14",
   "metadata": {},
   "outputs": [
    {
     "name": "stderr",
     "output_type": "stream",
     "text": [
      "/var/folders/k6/532x89vs5pb6w5twy9by4tl80000gn/T/ipykernel_43501/1362481826.py:12: UserWarning: To copy construct from a tensor, it is recommended to use sourceTensor.clone().detach() or sourceTensor.clone().detach().requires_grad_(True), rather than torch.tensor(sourceTensor).\n",
      "  return torch.tensor(input_seq, dtype=torch.long), torch.tensor(target_seq, dtype=torch.long)\n"
     ]
    },
    {
     "name": "stdout",
     "output_type": "stream",
     "text": [
      "Fold 0, Epoch 0, Train Loss: 10.534472783406576, Val Loss: 10.518127822875977, Accuracy: 0.0007530120481927711\n",
      "Fold 0, Epoch 1, Train Loss: 10.479749891493055, Val Loss: 10.49218807220459, Accuracy: 0.0007530120481927711\n",
      "Fold 0, Epoch 2, Train Loss: 10.408186700608995, Val Loss: 10.439935302734375, Accuracy: 0.0007530120481927711\n",
      "Fold 0, Epoch 3, Train Loss: 10.206404580010307, Val Loss: 10.292965316772461, Accuracy: 0.0007530120481927711\n",
      "Fold 0, Epoch 4, Train Loss: 9.742474661933052, Val Loss: 10.026091957092286, Accuracy: 0.0007530120481927711\n",
      "Fold 0, Epoch 5, Train Loss: 9.093077341715494, Val Loss: 9.754343605041504, Accuracy: 0.0007530120481927711\n",
      "Fold 0, Epoch 6, Train Loss: 8.4400634765625, Val Loss: 9.56874122619629, Accuracy: 0.0015060240963855422\n",
      "Fold 0, Epoch 7, Train Loss: 7.929052988688151, Val Loss: 9.492411422729493, Accuracy: 0.0030120481927710845\n",
      "Fold 0, Epoch 8, Train Loss: 7.6490086449517145, Val Loss: 9.48300838470459, Accuracy: 0.0030120481927710845\n",
      "Fold 0, Epoch 9, Train Loss: 7.449162006378174, Val Loss: 9.503693389892579, Accuracy: 0.0030120481927710845\n",
      "Fold 0, Epoch 10, Train Loss: 7.247814178466797, Val Loss: 9.540690803527832, Accuracy: 0.0030120481927710845\n"
     ]
    },
    {
     "ename": "KeyboardInterrupt",
     "evalue": "",
     "output_type": "error",
     "traceback": [
      "\u001b[0;31m---------------------------------------------------------------------------\u001b[0m",
      "\u001b[0;31mKeyboardInterrupt\u001b[0m                         Traceback (most recent call last)",
      "\u001b[0;32m/var/folders/k6/532x89vs5pb6w5twy9by4tl80000gn/T/ipykernel_43501/3175068073.py\u001b[0m in \u001b[0;36m<module>\u001b[0;34m\u001b[0m\n\u001b[1;32m      2\u001b[0m \u001b[0mdataset\u001b[0m \u001b[0;34m=\u001b[0m \u001b[0mprepare_dataset\u001b[0m\u001b[0;34m(\u001b[0m\u001b[0mdirectory_path\u001b[0m\u001b[0;34m,\u001b[0m \u001b[0;36m100\u001b[0m\u001b[0;34m)\u001b[0m\u001b[0;34m\u001b[0m\u001b[0;34m\u001b[0m\u001b[0m\n\u001b[1;32m      3\u001b[0m \u001b[0mfolds\u001b[0m \u001b[0;34m=\u001b[0m \u001b[0mgenerate_kfold_indices\u001b[0m\u001b[0;34m(\u001b[0m\u001b[0mdataset\u001b[0m\u001b[0;34m,\u001b[0m \u001b[0mn_splits\u001b[0m\u001b[0;34m=\u001b[0m\u001b[0;36m3\u001b[0m\u001b[0;34m,\u001b[0m \u001b[0mshuffle\u001b[0m\u001b[0;34m=\u001b[0m\u001b[0;32mTrue\u001b[0m\u001b[0;34m,\u001b[0m \u001b[0mrandom_state\u001b[0m\u001b[0;34m=\u001b[0m\u001b[0;36m42\u001b[0m\u001b[0;34m)\u001b[0m\u001b[0;34m\u001b[0m\u001b[0;34m\u001b[0m\u001b[0m\n\u001b[0;32m----> 4\u001b[0;31m \u001b[0mall_train_loss\u001b[0m\u001b[0;34m,\u001b[0m \u001b[0mall_val_loss\u001b[0m\u001b[0;34m,\u001b[0m \u001b[0mall_accuracy\u001b[0m \u001b[0;34m=\u001b[0m \u001b[0mcross_validate_model\u001b[0m\u001b[0;34m(\u001b[0m\u001b[0mdataset\u001b[0m\u001b[0;34m,\u001b[0m \u001b[0mfolds\u001b[0m\u001b[0;34m,\u001b[0m\u001b[0mnum_epochs\u001b[0m\u001b[0;34m=\u001b[0m\u001b[0;36m50\u001b[0m\u001b[0;34m)\u001b[0m\u001b[0;34m\u001b[0m\u001b[0;34m\u001b[0m\u001b[0m\n\u001b[0m",
      "\u001b[0;32m/var/folders/k6/532x89vs5pb6w5twy9by4tl80000gn/T/ipykernel_43501/2338555901.py\u001b[0m in \u001b[0;36mcross_validate_model\u001b[0;34m(dataset, folds, num_epochs, batch_size, lr, save_dir, padding_value)\u001b[0m\n\u001b[1;32m     75\u001b[0m                 \u001b[0msequence_pred\u001b[0m \u001b[0;34m=\u001b[0m \u001b[0mmodel\u001b[0m\u001b[0;34m(\u001b[0m\u001b[0msequences\u001b[0m\u001b[0;34m,\u001b[0m \u001b[0mlengths\u001b[0m\u001b[0;34m)\u001b[0m  \u001b[0;31m# Adjust according to your model's method signature\u001b[0m\u001b[0;34m\u001b[0m\u001b[0;34m\u001b[0m\u001b[0m\n\u001b[1;32m     76\u001b[0m                 \u001b[0mloss\u001b[0m \u001b[0;34m=\u001b[0m \u001b[0mloss_function\u001b[0m\u001b[0;34m(\u001b[0m\u001b[0msequence_pred\u001b[0m\u001b[0;34m.\u001b[0m\u001b[0mtranspose\u001b[0m\u001b[0;34m(\u001b[0m\u001b[0;36m1\u001b[0m\u001b[0;34m,\u001b[0m \u001b[0;36m2\u001b[0m\u001b[0;34m)\u001b[0m\u001b[0;34m,\u001b[0m \u001b[0mtargets\u001b[0m\u001b[0;34m)\u001b[0m  \u001b[0;31m# Adjust if needed\u001b[0m\u001b[0;34m\u001b[0m\u001b[0;34m\u001b[0m\u001b[0m\n\u001b[0;32m---> 77\u001b[0;31m                 \u001b[0mloss\u001b[0m\u001b[0;34m.\u001b[0m\u001b[0mbackward\u001b[0m\u001b[0;34m(\u001b[0m\u001b[0;34m)\u001b[0m\u001b[0;34m\u001b[0m\u001b[0;34m\u001b[0m\u001b[0m\n\u001b[0m\u001b[1;32m     78\u001b[0m                 \u001b[0moptimizer\u001b[0m\u001b[0;34m.\u001b[0m\u001b[0mstep\u001b[0m\u001b[0;34m(\u001b[0m\u001b[0;34m)\u001b[0m\u001b[0;34m\u001b[0m\u001b[0;34m\u001b[0m\u001b[0m\n\u001b[1;32m     79\u001b[0m                 \u001b[0mtrain_loss\u001b[0m \u001b[0;34m+=\u001b[0m \u001b[0mloss\u001b[0m\u001b[0;34m.\u001b[0m\u001b[0mitem\u001b[0m\u001b[0;34m(\u001b[0m\u001b[0;34m)\u001b[0m\u001b[0;34m\u001b[0m\u001b[0;34m\u001b[0m\u001b[0m\n",
      "\u001b[0;32m~/opt/anaconda3/lib/python3.9/site-packages/torch/_tensor.py\u001b[0m in \u001b[0;36mbackward\u001b[0;34m(self, gradient, retain_graph, create_graph, inputs)\u001b[0m\n\u001b[1;32m    520\u001b[0m                 \u001b[0minputs\u001b[0m\u001b[0;34m=\u001b[0m\u001b[0minputs\u001b[0m\u001b[0;34m,\u001b[0m\u001b[0;34m\u001b[0m\u001b[0;34m\u001b[0m\u001b[0m\n\u001b[1;32m    521\u001b[0m             )\n\u001b[0;32m--> 522\u001b[0;31m         torch.autograd.backward(\n\u001b[0m\u001b[1;32m    523\u001b[0m             \u001b[0mself\u001b[0m\u001b[0;34m,\u001b[0m \u001b[0mgradient\u001b[0m\u001b[0;34m,\u001b[0m \u001b[0mretain_graph\u001b[0m\u001b[0;34m,\u001b[0m \u001b[0mcreate_graph\u001b[0m\u001b[0;34m,\u001b[0m \u001b[0minputs\u001b[0m\u001b[0;34m=\u001b[0m\u001b[0minputs\u001b[0m\u001b[0;34m\u001b[0m\u001b[0;34m\u001b[0m\u001b[0m\n\u001b[1;32m    524\u001b[0m         )\n",
      "\u001b[0;32m~/opt/anaconda3/lib/python3.9/site-packages/torch/autograd/__init__.py\u001b[0m in \u001b[0;36mbackward\u001b[0;34m(tensors, grad_tensors, retain_graph, create_graph, grad_variables, inputs)\u001b[0m\n\u001b[1;32m    264\u001b[0m     \u001b[0;31m# some Python versions print out the first line of a multi-line function\u001b[0m\u001b[0;34m\u001b[0m\u001b[0;34m\u001b[0m\u001b[0m\n\u001b[1;32m    265\u001b[0m     \u001b[0;31m# calls in the traceback and some print out the last line\u001b[0m\u001b[0;34m\u001b[0m\u001b[0;34m\u001b[0m\u001b[0m\n\u001b[0;32m--> 266\u001b[0;31m     Variable._execution_engine.run_backward(  # Calls into the C++ engine to run the backward pass\n\u001b[0m\u001b[1;32m    267\u001b[0m         \u001b[0mtensors\u001b[0m\u001b[0;34m,\u001b[0m\u001b[0;34m\u001b[0m\u001b[0;34m\u001b[0m\u001b[0m\n\u001b[1;32m    268\u001b[0m         \u001b[0mgrad_tensors_\u001b[0m\u001b[0;34m,\u001b[0m\u001b[0;34m\u001b[0m\u001b[0;34m\u001b[0m\u001b[0m\n",
      "\u001b[0;31mKeyboardInterrupt\u001b[0m: "
     ]
    }
   ],
   "source": [
    "directory_path = 'data/trainData/oneHotVectorData'\n",
    "dataset = prepare_dataset(directory_path, 100)\n",
    "folds = generate_kfold_indices(dataset, n_splits=3, shuffle=True, random_state=42)\n",
    "all_train_loss, all_val_loss, all_accuracy = cross_validate_model(dataset, folds,num_epochs=50)\n"
   ]
  },
  {
   "cell_type": "code",
   "execution_count": 172,
   "id": "53f71cb9",
   "metadata": {},
   "outputs": [
    {
     "name": "stderr",
     "output_type": "stream",
     "text": [
      "/var/folders/k6/532x89vs5pb6w5twy9by4tl80000gn/T/ipykernel_43501/1362481826.py:12: UserWarning: To copy construct from a tensor, it is recommended to use sourceTensor.clone().detach() or sourceTensor.clone().detach().requires_grad_(True), rather than torch.tensor(sourceTensor).\n",
      "  return torch.tensor(input_seq, dtype=torch.long), torch.tensor(target_seq, dtype=torch.long)\n"
     ]
    },
    {
     "ename": "KeyboardInterrupt",
     "evalue": "",
     "output_type": "error",
     "traceback": [
      "\u001b[0;31m---------------------------------------------------------------------------\u001b[0m",
      "\u001b[0;31mKeyboardInterrupt\u001b[0m                         Traceback (most recent call last)",
      "\u001b[0;32m/var/folders/k6/532x89vs5pb6w5twy9by4tl80000gn/T/ipykernel_43501/3821806728.py\u001b[0m in \u001b[0;36m<module>\u001b[0;34m\u001b[0m\n\u001b[1;32m      2\u001b[0m \u001b[0mdataset\u001b[0m \u001b[0;34m=\u001b[0m \u001b[0mprepare_dataset\u001b[0m\u001b[0;34m(\u001b[0m\u001b[0mdirectory_path\u001b[0m\u001b[0;34m,\u001b[0m \u001b[0;36m1000\u001b[0m\u001b[0;34m)\u001b[0m\u001b[0;34m\u001b[0m\u001b[0;34m\u001b[0m\u001b[0m\n\u001b[1;32m      3\u001b[0m \u001b[0mfolds\u001b[0m \u001b[0;34m=\u001b[0m \u001b[0mgenerate_kfold_indices\u001b[0m\u001b[0;34m(\u001b[0m\u001b[0mdataset\u001b[0m\u001b[0;34m,\u001b[0m \u001b[0mn_splits\u001b[0m\u001b[0;34m=\u001b[0m\u001b[0;36m3\u001b[0m\u001b[0;34m,\u001b[0m \u001b[0mshuffle\u001b[0m\u001b[0;34m=\u001b[0m\u001b[0;32mTrue\u001b[0m\u001b[0;34m,\u001b[0m \u001b[0mrandom_state\u001b[0m\u001b[0;34m=\u001b[0m\u001b[0;36m42\u001b[0m\u001b[0;34m)\u001b[0m\u001b[0;34m\u001b[0m\u001b[0;34m\u001b[0m\u001b[0m\n\u001b[0;32m----> 4\u001b[0;31m \u001b[0mall_train_loss\u001b[0m\u001b[0;34m,\u001b[0m \u001b[0mall_val_loss\u001b[0m\u001b[0;34m,\u001b[0m \u001b[0mall_accuracy\u001b[0m \u001b[0;34m=\u001b[0m \u001b[0mcross_validate_model\u001b[0m\u001b[0;34m(\u001b[0m\u001b[0mdataset\u001b[0m\u001b[0;34m,\u001b[0m \u001b[0mfolds\u001b[0m\u001b[0;34m,\u001b[0m\u001b[0mnum_epochs\u001b[0m\u001b[0;34m=\u001b[0m\u001b[0;36m50\u001b[0m\u001b[0;34m)\u001b[0m\u001b[0;34m\u001b[0m\u001b[0;34m\u001b[0m\u001b[0m\n\u001b[0m",
      "\u001b[0;32m/var/folders/k6/532x89vs5pb6w5twy9by4tl80000gn/T/ipykernel_43501/2338555901.py\u001b[0m in \u001b[0;36mcross_validate_model\u001b[0;34m(dataset, folds, num_epochs, batch_size, lr, save_dir, padding_value)\u001b[0m\n\u001b[1;32m     75\u001b[0m                 \u001b[0msequence_pred\u001b[0m \u001b[0;34m=\u001b[0m \u001b[0mmodel\u001b[0m\u001b[0;34m(\u001b[0m\u001b[0msequences\u001b[0m\u001b[0;34m,\u001b[0m \u001b[0mlengths\u001b[0m\u001b[0;34m)\u001b[0m  \u001b[0;31m# Adjust according to your model's method signature\u001b[0m\u001b[0;34m\u001b[0m\u001b[0;34m\u001b[0m\u001b[0m\n\u001b[1;32m     76\u001b[0m                 \u001b[0mloss\u001b[0m \u001b[0;34m=\u001b[0m \u001b[0mloss_function\u001b[0m\u001b[0;34m(\u001b[0m\u001b[0msequence_pred\u001b[0m\u001b[0;34m.\u001b[0m\u001b[0mtranspose\u001b[0m\u001b[0;34m(\u001b[0m\u001b[0;36m1\u001b[0m\u001b[0;34m,\u001b[0m \u001b[0;36m2\u001b[0m\u001b[0;34m)\u001b[0m\u001b[0;34m,\u001b[0m \u001b[0mtargets\u001b[0m\u001b[0;34m)\u001b[0m  \u001b[0;31m# Adjust if needed\u001b[0m\u001b[0;34m\u001b[0m\u001b[0;34m\u001b[0m\u001b[0m\n\u001b[0;32m---> 77\u001b[0;31m                 \u001b[0mloss\u001b[0m\u001b[0;34m.\u001b[0m\u001b[0mbackward\u001b[0m\u001b[0;34m(\u001b[0m\u001b[0;34m)\u001b[0m\u001b[0;34m\u001b[0m\u001b[0;34m\u001b[0m\u001b[0m\n\u001b[0m\u001b[1;32m     78\u001b[0m                 \u001b[0moptimizer\u001b[0m\u001b[0;34m.\u001b[0m\u001b[0mstep\u001b[0m\u001b[0;34m(\u001b[0m\u001b[0;34m)\u001b[0m\u001b[0;34m\u001b[0m\u001b[0;34m\u001b[0m\u001b[0m\n\u001b[1;32m     79\u001b[0m                 \u001b[0mtrain_loss\u001b[0m \u001b[0;34m+=\u001b[0m \u001b[0mloss\u001b[0m\u001b[0;34m.\u001b[0m\u001b[0mitem\u001b[0m\u001b[0;34m(\u001b[0m\u001b[0;34m)\u001b[0m\u001b[0;34m\u001b[0m\u001b[0;34m\u001b[0m\u001b[0m\n",
      "\u001b[0;32m~/opt/anaconda3/lib/python3.9/site-packages/torch/_tensor.py\u001b[0m in \u001b[0;36mbackward\u001b[0;34m(self, gradient, retain_graph, create_graph, inputs)\u001b[0m\n\u001b[1;32m    520\u001b[0m                 \u001b[0minputs\u001b[0m\u001b[0;34m=\u001b[0m\u001b[0minputs\u001b[0m\u001b[0;34m,\u001b[0m\u001b[0;34m\u001b[0m\u001b[0;34m\u001b[0m\u001b[0m\n\u001b[1;32m    521\u001b[0m             )\n\u001b[0;32m--> 522\u001b[0;31m         torch.autograd.backward(\n\u001b[0m\u001b[1;32m    523\u001b[0m             \u001b[0mself\u001b[0m\u001b[0;34m,\u001b[0m \u001b[0mgradient\u001b[0m\u001b[0;34m,\u001b[0m \u001b[0mretain_graph\u001b[0m\u001b[0;34m,\u001b[0m \u001b[0mcreate_graph\u001b[0m\u001b[0;34m,\u001b[0m \u001b[0minputs\u001b[0m\u001b[0;34m=\u001b[0m\u001b[0minputs\u001b[0m\u001b[0;34m\u001b[0m\u001b[0;34m\u001b[0m\u001b[0m\n\u001b[1;32m    524\u001b[0m         )\n",
      "\u001b[0;32m~/opt/anaconda3/lib/python3.9/site-packages/torch/autograd/__init__.py\u001b[0m in \u001b[0;36mbackward\u001b[0;34m(tensors, grad_tensors, retain_graph, create_graph, grad_variables, inputs)\u001b[0m\n\u001b[1;32m    264\u001b[0m     \u001b[0;31m# some Python versions print out the first line of a multi-line function\u001b[0m\u001b[0;34m\u001b[0m\u001b[0;34m\u001b[0m\u001b[0m\n\u001b[1;32m    265\u001b[0m     \u001b[0;31m# calls in the traceback and some print out the last line\u001b[0m\u001b[0;34m\u001b[0m\u001b[0;34m\u001b[0m\u001b[0m\n\u001b[0;32m--> 266\u001b[0;31m     Variable._execution_engine.run_backward(  # Calls into the C++ engine to run the backward pass\n\u001b[0m\u001b[1;32m    267\u001b[0m         \u001b[0mtensors\u001b[0m\u001b[0;34m,\u001b[0m\u001b[0;34m\u001b[0m\u001b[0;34m\u001b[0m\u001b[0m\n\u001b[1;32m    268\u001b[0m         \u001b[0mgrad_tensors_\u001b[0m\u001b[0;34m,\u001b[0m\u001b[0;34m\u001b[0m\u001b[0;34m\u001b[0m\u001b[0m\n",
      "\u001b[0;31mKeyboardInterrupt\u001b[0m: "
     ]
    }
   ],
   "source": [
    "directory_path = 'data/trainData/oneHotVectorData'\n",
    "dataset = prepare_dataset(directory_path, 1000)\n",
    "folds = generate_kfold_indices(dataset, n_splits=3, shuffle=True, random_state=42)\n",
    "all_train_loss, all_val_loss, all_accuracy = cross_validate_model(dataset, folds,num_epochs=50)\n"
   ]
  },
  {
   "cell_type": "markdown",
   "id": "598ec436",
   "metadata": {
    "id": "598ec436"
   },
   "source": [
    "### 5.6 Save the trained model\n"
   ]
  },
  {
   "cell_type": "code",
   "execution_count": null,
   "id": "fa328bc7",
   "metadata": {
    "id": "fa328bc7"
   },
   "outputs": [],
   "source": [
    "\n",
    "train_df_call_type_b = train_df.copy().dropna(subset=['ORIGIN_STAND'])\n",
    "selected_features_call_type_b = train_df_call_type_b[['ORIGIN_STAND', 'TAXI_ID', 'DAY_TYPE_REVISED_NUMERIC', 'TIMESTAMP']]\n",
    "plot_correlation_heatmap(selected_features_call_type_b)"
   ]
  },
  {
   "cell_type": "markdown",
   "id": "96fb395d",
   "metadata": {
    "id": "96fb395d"
   },
   "source": [
    "The scatter plots show no clear patterns, indicating that how a taxi is called (from a center, stand, or street) and the time its trajectory is generated appear to be random. There's no apparent non-linear relationship, supporting the idea that these events are independent and occur without a predictable pattern."
   ]
  },
  {
   "cell_type": "markdown",
   "id": "4985a93a",
   "metadata": {
    "id": "4985a93a"
   },
   "source": [
    "## 6. Next POI Prediction\n"
   ]
  },
  {
   "cell_type": "markdown",
   "id": "KjSoFTkd7UFQ",
   "metadata": {
    "id": "KjSoFTkd7UFQ"
   },
   "source": [
    "### 6.1 Preparing test data"
   ]
  },
  {
   "cell_type": "code",
   "execution_count": null,
   "id": "f67000e4",
   "metadata": {},
   "outputs": [],
   "source": []
  },
  {
   "cell_type": "markdown",
   "id": "Tz149vDG7aoD",
   "metadata": {
    "id": "Tz149vDG7aoD"
   },
   "source": [
    "### 6.2 Predicting next POI using the trained model"
   ]
  },
  {
   "cell_type": "code",
   "execution_count": null,
   "id": "dd311863",
   "metadata": {},
   "outputs": [],
   "source": [
    "import torch\n",
    "\n",
    "def predict_next_cells(model, start_sequence, num_predictions):\n",
    "    \"\"\"\n",
    "    Predicts the next cell IDs in a trajectory given a starting sequence.\n",
    "\n",
    "    Parameters:\n",
    "    - model: The trained TaxiTrajectoryGenerator model.\n",
    "    - start_sequence: The starting sequence of cell IDs as a tensor.\n",
    "    - num_predictions: The number of cell IDs to predict after the starting sequence.\n",
    "\n",
    "    Returns:\n",
    "    - A list containing the predicted sequence of cell IDs.\n",
    "    \"\"\"\n",
    "    model.eval()  # Set the model to evaluation mode\n",
    "    with torch.no_grad():  # No need to track gradients\n",
    "        current_sequence = start_sequence\n",
    "        predictions = []\n",
    "        for _ in range(num_predictions):\n",
    "            # Assuming your model expects lengths, you need to provide the current sequence length\n",
    "            lengths = [len(current_sequence)]\n",
    "            prediction = model(current_sequence.unsqueeze(0), lengths)  # Add batch dimension\n",
    "            # Assuming your output is logits and you want the most likely next cell ID\n",
    "            predicted_cell_id = prediction.argmax(dim=2)[:,-1]  # Get the last prediction\n",
    "            predictions.append(predicted_cell_id.item())  # Store the prediction\n",
    "            # Prepare the next input sequence; here, we simply append the prediction (you might need to adjust based on your input format)\n",
    "            current_sequence = torch.cat((current_sequence, predicted_cell_id), dim=0)\n",
    "\n",
    "    return predictions\n"
   ]
  },
  {
   "cell_type": "code",
   "execution_count": 95,
   "id": "8534fb56",
   "metadata": {},
   "outputs": [
    {
     "data": {
      "text/plain": [
       "TaxiTrajectoryGenerator(\n",
       "  (embedding): Embedding(37464, 32)\n",
       "  (lstm): LSTM(32, 32, num_layers=2, batch_first=True)\n",
       "  (fc): Linear(in_features=32, out_features=37464, bias=True)\n",
       ")"
      ]
     },
     "execution_count": 95,
     "metadata": {},
     "output_type": "execute_result"
    }
   ],
   "source": [
    "import torch\n",
    "from torch.nn import Embedding, LSTM, Linear\n",
    "from torch.utils.data import Dataset, DataLoader\n",
    "from torch.nn.utils.rnn import pad_sequence\n",
    "\n",
    "# Assuming the TaxiTrajectoryGenerator class definition is available in your environment\n",
    "\n",
    "# Model specifications - ensure these match those used during training\n",
    "vocab_size = 223 * 168  # Adjust if your vocab size is different\n",
    "embedding_dim = 32\n",
    "hidden_size = 32\n",
    "num_layers = 2\n",
    "output_size = vocab_size\n",
    "\n",
    "# Recreate the model instance\n",
    "model = TaxiTrajectoryGenerator(vocab_size, embedding_dim, hidden_size, num_layers, output_size)\n",
    "\n",
    "# Load the trained model weights\n",
    "model_path = 'trajectoryModels/model_fold_2.pt'\n",
    "model.load_state_dict(torch.load(model_path, map_location=torch.device('cpu')))  # or 'cuda' if using GPU\n",
    "\n",
    "model.eval()  # Set the model to evaluation mode\n"
   ]
  },
  {
   "cell_type": "code",
   "execution_count": 108,
   "id": "f88b25dd",
   "metadata": {},
   "outputs": [
    {
     "name": "stdout",
     "output_type": "stream",
     "text": [
      "[17546, 17714, 17713, 17712, 17710, 0, 0, 0, 0, 0, 0, 0, 0, 0, 0, 0, 0, 0, 0, 0, 0, 0, 0, 0, 0, 0, 0, 0, 0, 0, 0, 0, 0, 0, 0, 0, 0, 0, 0, 0, 0, 0, 0, 0, 0, 0, 0, 0, 0, 0, 0, 0, 0, 0, 0, 0, 0, 0, 0, 0, 0, 0, 0, 0, 0, 0, 0, 0, 0, 0, 0, 0, 0, 0, 0, 0, 0, 0, 0, 0, 0, 0, 0, 0, 0, 0, 0, 0, 0, 0, 0, 0, 0, 0, 0, 0, 0, 0, 0, 0, 0, 0, 0, 0, 0, 0, 0, 0, 0, 0, 0]\n",
      "111\n",
      "111\n"
     ]
    }
   ],
   "source": [
    "# Test trajectory\n",
    "test_trajectory_target = [17546,17714,17713,17712,17710,17708,17875,17875,18042,18042,18042,18042,18042,18042,18209,18209,18546,18715,18715,18715,18715,18883,18883,18883,18884,18884,18884,19052,19052,18884,19052,19052,19052,19052,19220,19220,19220,19220,19220,19220,19220,19220,19219,19219,19219,19218,19217,19217,19217,19217,19217,19216,19216,19214,19213,19213,19213,19380,19380,19717,20053,20222,20222,20390,20390,20390,20390,20390,20390,20558,20726,20893,21060,21060,21228,21228,21228,21228,21228,21228,21228,21228,21228,21228,21228,21228,21228,21229,21229,21229,21229,21229,21229,21229,21229,21397,21397,21229,21229,21229,21397,21398,21398,21398,21398,21398,21398,21565,21564,21564,21564]\n",
    "test_trajectory = test_trajectory_target[:5]\n",
    "for i in range(5, len(test_trajectory_target)):\n",
    "    test_trajectory.extend([0])\n",
    "print(test_trajectory)\n",
    "print(len(test_trajectory_target))\n",
    "print(len(test_trajectory))\n",
    "# Convert to tensor\n",
    "test_trajectory_tensor = torch.tensor(test_trajectory_target, dtype=torch.long).unsqueeze(0)  # Add batch dimension\n"
   ]
  },
  {
   "cell_type": "code",
   "execution_count": 109,
   "id": "98a5f5f5",
   "metadata": {},
   "outputs": [
    {
     "name": "stdout",
     "output_type": "stream",
     "text": [
      "tensor([17546, 17714, 17713, 17712, 17710, 17708, 17875, 17875, 18042, 18042,\n",
      "        18042, 18042, 18042, 18042, 18209, 18209, 18546, 18715, 18715, 18715,\n",
      "        18715, 18883, 18883, 18883, 18884, 18884, 18884, 19052, 19052, 18884,\n",
      "        19052, 19052, 19052, 19052, 19220, 19220, 19220, 19220, 19220, 19220,\n",
      "        19220, 19220, 19219, 19219, 19219, 19218, 19217, 19217, 19217, 19217,\n",
      "        19217, 19216, 19216, 19214, 19213, 19213, 19213, 19380, 19380, 19717,\n",
      "        20053, 20222, 20222, 20390, 20390, 20390, 20390, 20390, 20390, 20558,\n",
      "        20726, 20893, 21060, 21060, 21228, 21228, 21228, 21228, 21228, 21228,\n",
      "        21228, 21228, 21228, 21228, 21228, 21228, 21228, 21229, 21229, 21229,\n",
      "        21229, 21229, 21229, 21229, 21229, 21397, 21397, 21229, 21229, 21229,\n",
      "        21397, 21398, 21398, 21398, 21398, 21398, 21398, 21565, 21564, 21564,\n",
      "        21564])\n",
      "tensor([[0, 0, 0, 0, 0, 0, 0, 0, 0, 0, 0, 0, 0, 0, 0, 0, 0, 0, 0, 0, 0, 0, 0, 0,\n",
      "         0, 0, 0, 0, 0, 0, 0, 0, 0, 0, 0, 0, 0, 0, 0, 0, 0, 0, 0, 0, 0, 0, 0, 0,\n",
      "         0, 0, 0, 0, 0, 0, 0, 0, 0, 0, 0, 0, 0, 0, 0, 0, 0, 0, 0, 0, 0, 0, 0, 0,\n",
      "         0, 0, 0, 0, 0, 0, 0, 0, 0, 0, 0, 0, 0, 0, 0, 0, 0, 0, 0, 0, 0, 0, 0, 0,\n",
      "         0, 0, 0, 0, 0, 0, 0, 0, 0, 0, 0, 0, 0, 0, 0]])\n",
      "Predicted next cell ID: 0\n"
     ]
    }
   ],
   "source": [
    "def predict_next_cell(model, sequence):\n",
    "    \"\"\"\n",
    "    Predict the next cell ID for a given sequence.\n",
    "\n",
    "    Parameters:\n",
    "    - model: The trained TaxiTrajectoryGenerator model.\n",
    "    - sequence: The sequence of cell IDs as a tensor, with batch dimension.\n",
    "    \n",
    "    Returns:\n",
    "    - predicted_cell_id: The predicted next cell ID.\n",
    "    \"\"\"\n",
    "    with torch.no_grad():\n",
    "        # Assuming your model's forward method requires lengths\n",
    "        lengths = [len(sequence[0])]\n",
    "        print(sequence[0])\n",
    "        predictions = model(sequence, lengths)\n",
    "        print(predictions.argmax(dim=2))\n",
    "        # Assuming the last prediction is what we're interested in\n",
    "        predicted_cell_id = predictions.argmax(dim=2)[:,-3]  # Get the last prediction in the sequence\n",
    "        \n",
    "    return predicted_cell_id.item()\n",
    "\n",
    "# Use the function to predict the next cell ID\n",
    "next_cell_id = predict_next_cell(model, test_trajectory_tensor)\n",
    "print(f\"Predicted next cell ID: {next_cell_id}\")\n"
   ]
  },
  {
   "cell_type": "markdown",
   "id": "7fUe0hWJ7a2D",
   "metadata": {
    "id": "7fUe0hWJ7a2D"
   },
   "source": [
    "### 6.1 Caculating the accuracy"
   ]
  },
  {
   "cell_type": "markdown",
   "id": "i0UxZBqV7bE-",
   "metadata": {
    "id": "i0UxZBqV7bE-"
   },
   "source": [
    "### 6.1 Visualzing the results"
   ]
  },
  {
   "cell_type": "markdown",
   "id": "e619fed5",
   "metadata": {
    "id": "e619fed5"
   },
   "source": [
    "## 7. Efficient Similar Trajectory Search\n",
    "\n"
   ]
  },
  {
   "cell_type": "markdown",
   "id": "Hu3PgrTN9sY2",
   "metadata": {
    "id": "Hu3PgrTN9sY2"
   },
   "source": [
    " ### 7.1 Load Langchian Libraries"
   ]
  },
  {
   "cell_type": "markdown",
   "id": "ovm7T5pM9siU",
   "metadata": {
    "id": "ovm7T5pM9siU"
   },
   "source": [
    " ### 7.2 Indexing learned trajectory embedding"
   ]
  },
  {
   "cell_type": "markdown",
   "id": "6R6GrSRk9spd",
   "metadata": {
    "id": "6R6GrSRk9spd"
   },
   "source": [
    " ### 7.3 Search a trajectory"
   ]
  },
  {
   "cell_type": "markdown",
   "id": "FKI_LOaaAMn4",
   "metadata": {
    "id": "FKI_LOaaAMn4"
   },
   "source": [
    " ### 7.4 Measureing the efficiency"
   ]
  },
  {
   "cell_type": "markdown",
   "id": "ef7180f0",
   "metadata": {
    "id": "ef7180f0"
   },
   "source": [
    "## 8. Data Limitations\n",
    "\n",
    "**Data Completeness**:\n",
    "\n",
    "- The completeness of the GPS data stream varies for each trip. The \"MISSING_DATA\" field indicates whether there are missing GPS locations during the trip.\n",
    "- The reliability of the data may be affected if there are missing GPS coordinates.\n",
    "\n",
    "**Data Scope Limitation**:\n",
    "\n",
    "- The analysis is restricted to taxi trajectory data from a single city for a specific year due to computational constraints. However, the analytical procedures and techniques employed can be expanded to a broader context, encompassing multiple cities, spanning several years, and incorporating diverse transportation trajectories beyond taxis.\n",
    "- When applying the same methods to larger and more varied datasets, it is essential to consider the scalability and generalization of the analysis to different transportation contexts.\n"
   ]
  },
  {
   "cell_type": "code",
   "execution_count": null,
   "id": "6338225f",
   "metadata": {
    "id": "6338225f"
   },
   "outputs": [],
   "source": []
  },
  {
   "cell_type": "code",
   "execution_count": null,
   "id": "3b220284",
   "metadata": {
    "id": "3b220284"
   },
   "outputs": [],
   "source": []
  },
  {
   "cell_type": "code",
   "execution_count": null,
   "id": "82e75f80",
   "metadata": {
    "id": "82e75f80"
   },
   "outputs": [],
   "source": []
  }
 ],
 "metadata": {
  "colab": {
   "provenance": []
  },
  "kernelspec": {
   "display_name": "Python 3 (ipykernel)",
   "language": "python",
   "name": "python3"
  },
  "language_info": {
   "codemirror_mode": {
    "name": "ipython",
    "version": 3
   },
   "file_extension": ".py",
   "mimetype": "text/x-python",
   "name": "python",
   "nbconvert_exporter": "python",
   "pygments_lexer": "ipython3",
   "version": "3.9.7"
  }
 },
 "nbformat": 4,
 "nbformat_minor": 5
}
